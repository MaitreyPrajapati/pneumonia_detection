{
 "cells": [
  {
   "cell_type": "code",
   "execution_count": 188,
   "metadata": {},
   "outputs": [],
   "source": [
    "import numpy as np\n",
    "import tensorflow as tf\n",
    "import matplotlib.pyplot as plt\n",
    "import imageio\n",
    "import os \n",
    "from tensorflow.keras.models import Sequential\n",
    "from tensorflow.keras.layers import Conv2D, AveragePooling2D, Dense, Flatten"
   ]
  },
  {
   "cell_type": "markdown",
   "metadata": {},
   "source": [
    "## Preprocessing Images"
   ]
  },
  {
   "cell_type": "code",
   "execution_count": 220,
   "metadata": {
    "collapsed": true
   },
   "outputs": [
    {
     "name": "stderr",
     "output_type": "stream",
     "text": [
      "Lossy conversion from float32 to uint8. Range [1.6953125, 252.74609375]. Convert image to uint8 prior to saving to suppress this warning.\n",
      "Lossy conversion from float32 to uint8. Range [0.0, 248.2587890625]. Convert image to uint8 prior to saving to suppress this warning.\n",
      "Lossy conversion from float32 to uint8. Range [0.0, 222.90045166015625]. Convert image to uint8 prior to saving to suppress this warning.\n",
      "Lossy conversion from float32 to uint8. Range [0.0, 214.0859375]. Convert image to uint8 prior to saving to suppress this warning.\n",
      "Lossy conversion from float32 to uint8. Range [0.0, 255.0]. Convert image to uint8 prior to saving to suppress this warning.\n",
      "Lossy conversion from float32 to uint8. Range [0.0, 255.0]. Convert image to uint8 prior to saving to suppress this warning.\n",
      "Lossy conversion from float32 to uint8. Range [0.0, 249.17770385742188]. Convert image to uint8 prior to saving to suppress this warning.\n",
      "Lossy conversion from float32 to uint8. Range [0.0, 254.40234375]. Convert image to uint8 prior to saving to suppress this warning.\n",
      "Lossy conversion from float32 to uint8. Range [0.0, 201.775390625]. Convert image to uint8 prior to saving to suppress this warning.\n",
      "Lossy conversion from float32 to uint8. Range [0.0, 254.39041137695312]. Convert image to uint8 prior to saving to suppress this warning.\n",
      "Lossy conversion from float32 to uint8. Range [0.0, 252.79847717285156]. Convert image to uint8 prior to saving to suppress this warning.\n"
     ]
    },
    {
     "name": "stdout",
     "output_type": "stream",
     "text": [
      "img IM-0031-0001.jpeg done\n",
      "img IM-0025-0001.jpeg done\n",
      "img NORMAL2-IM-0272-0001.jpeg done\n",
      "img NORMAL2-IM-0102-0001.jpeg done\n",
      "img NORMAL2-IM-0229-0001.jpeg done\n",
      "img NORMAL2-IM-0315-0001.jpeg done\n",
      "img NORMAL2-IM-0123-0001.jpeg done\n",
      "img NORMAL2-IM-0301-0001.jpeg done\n",
      "img NORMAL2-IM-0246-0001-0002.jpeg done\n",
      "img IM-0010-0001.jpeg done\n",
      "img IM-0046-0001.jpeg done\n"
     ]
    },
    {
     "name": "stderr",
     "output_type": "stream",
     "text": [
      "Lossy conversion from float32 to uint8. Range [0.0, 253.1484375]. Convert image to uint8 prior to saving to suppress this warning.\n",
      "Lossy conversion from float32 to uint8. Range [0.0, 254.25]. Convert image to uint8 prior to saving to suppress this warning.\n",
      "Lossy conversion from float32 to uint8. Range [0.0, 254.73046875]. Convert image to uint8 prior to saving to suppress this warning.\n",
      "Lossy conversion from float32 to uint8. Range [0.0, 253.1875]. Convert image to uint8 prior to saving to suppress this warning.\n",
      "Lossy conversion from float32 to uint8. Range [2.7215576171875, 253.333740234375]. Convert image to uint8 prior to saving to suppress this warning.\n",
      "Lossy conversion from float32 to uint8. Range [0.0, 254.70703125]. Convert image to uint8 prior to saving to suppress this warning.\n",
      "Lossy conversion from float32 to uint8. Range [2.212890625, 254.8125]. Convert image to uint8 prior to saving to suppress this warning.\n",
      "Lossy conversion from float32 to uint8. Range [0.0, 249.109375]. Convert image to uint8 prior to saving to suppress this warning.\n",
      "Lossy conversion from float32 to uint8. Range [0.0, 254.95458984375]. Convert image to uint8 prior to saving to suppress this warning.\n",
      "Lossy conversion from float32 to uint8. Range [14.93438720703125, 255.0]. Convert image to uint8 prior to saving to suppress this warning.\n",
      "Lossy conversion from float32 to uint8. Range [0.0, 255.0]. Convert image to uint8 prior to saving to suppress this warning.\n",
      "Lossy conversion from float32 to uint8. Range [0.0, 253.48333740234375]. Convert image to uint8 prior to saving to suppress this warning.\n",
      "Lossy conversion from float32 to uint8. Range [0.0, 255.0]. Convert image to uint8 prior to saving to suppress this warning.\n"
     ]
    },
    {
     "name": "stdout",
     "output_type": "stream",
     "text": [
      "img NORMAL2-IM-0357-0001.jpeg done\n",
      "img NORMAL2-IM-0027-0001.jpeg done\n",
      "img NORMAL2-IM-0033-0001.jpeg done\n",
      "img NORMAL2-IM-0343-0001.jpeg done\n",
      "img IM-0028-0001.jpeg done\n",
      "img NORMAL2-IM-0339-0001.jpeg done\n",
      "img NORMAL2-IM-0173-0001-0002.jpeg done\n",
      "img NORMAL2-IM-0012-0001.jpeg done\n",
      "img NORMAL2-IM-0362-0001.jpeg done\n",
      "img IM-0009-0001.jpeg done\n",
      "img NORMAL2-IM-0297-0001.jpeg done\n",
      "img IM-0073-0001.jpeg done\n",
      "img IM-0067-0001.jpeg done\n"
     ]
    },
    {
     "name": "stderr",
     "output_type": "stream",
     "text": [
      "Lossy conversion from float32 to uint8. Range [0.0, 254.04443359375]. Convert image to uint8 prior to saving to suppress this warning.\n",
      "Lossy conversion from float32 to uint8. Range [0.0, 254.984375]. Convert image to uint8 prior to saving to suppress this warning.\n",
      "Lossy conversion from float32 to uint8. Range [0.0, 254.9677734375]. Convert image to uint8 prior to saving to suppress this warning.\n",
      "Lossy conversion from float32 to uint8. Range [0.0, 253.0]. Convert image to uint8 prior to saving to suppress this warning.\n",
      "Lossy conversion from float32 to uint8. Range [0.0, 255.0]. Convert image to uint8 prior to saving to suppress this warning.\n",
      "Lossy conversion from float32 to uint8. Range [0.0, 255.0]. Convert image to uint8 prior to saving to suppress this warning.\n",
      "Lossy conversion from float32 to uint8. Range [1.1953125, 254.890625]. Convert image to uint8 prior to saving to suppress this warning.\n",
      "Lossy conversion from float32 to uint8. Range [0.0, 254.9560546875]. Convert image to uint8 prior to saving to suppress this warning.\n",
      "Lossy conversion from float32 to uint8. Range [0.0, 242.1953125]. Convert image to uint8 prior to saving to suppress this warning.\n",
      "Lossy conversion from float32 to uint8. Range [0.0, 254.90234375]. Convert image to uint8 prior to saving to suppress this warning.\n",
      "Lossy conversion from float32 to uint8. Range [0.0, 250.193603515625]. Convert image to uint8 prior to saving to suppress this warning.\n",
      "Lossy conversion from float32 to uint8. Range [0.0, 253.980712890625]. Convert image to uint8 prior to saving to suppress this warning.\n",
      "Lossy conversion from float32 to uint8. Range [2.0, 254.68017578125]. Convert image to uint8 prior to saving to suppress this warning.\n",
      "Lossy conversion from float32 to uint8. Range [0.0, 254.86154174804688]. Convert image to uint8 prior to saving to suppress this warning.\n"
     ]
    },
    {
     "name": "stdout",
     "output_type": "stream",
     "text": [
      "img NORMAL2-IM-0283-0001.jpeg done\n",
      "img NORMAL2-IM-0376-0001.jpeg done\n",
      "img NORMAL2-IM-0313-0001.jpeg done\n",
      "img NORMAL2-IM-0019-0001.jpeg done\n",
      "img NORMAL2-IM-0369-0001.jpeg done\n",
      "img NORMAL2-IM-0196-0001.jpeg done\n",
      "img IM-0016-0001.jpeg done\n",
      "img NORMAL2-IM-0288-0001.jpeg done\n",
      "img NORMAL2-IM-0241-0001.jpeg done\n",
      "img IM-0011-0001-0001.jpeg done\n",
      "img NORMAL2-IM-0131-0001.jpeg done\n",
      "img NORMAL2-IM-0307-0001.jpeg done\n",
      "img IM-0037-0001.jpeg done\n",
      "img NORMAL2-IM-0326-0001.jpeg done\n"
     ]
    },
    {
     "name": "stderr",
     "output_type": "stream",
     "text": [
      "Lossy conversion from float32 to uint8. Range [0.0, 254.86505126953125]. Convert image to uint8 prior to saving to suppress this warning.\n",
      "Lossy conversion from float32 to uint8. Range [0.0, 254.56161499023438]. Convert image to uint8 prior to saving to suppress this warning.\n",
      "Lossy conversion from float32 to uint8. Range [0.0, 254.359130859375]. Convert image to uint8 prior to saving to suppress this warning.\n",
      "Lossy conversion from float32 to uint8. Range [0.0, 255.0]. Convert image to uint8 prior to saving to suppress this warning.\n",
      "Lossy conversion from float32 to uint8. Range [0.0, 254.9296875]. Convert image to uint8 prior to saving to suppress this warning.\n",
      "Lossy conversion from float32 to uint8. Range [0.0, 255.0]. Convert image to uint8 prior to saving to suppress this warning.\n",
      "Lossy conversion from float32 to uint8. Range [0.0, 255.0]. Convert image to uint8 prior to saving to suppress this warning.\n",
      "Lossy conversion from float32 to uint8. Range [0.0, 255.0]. Convert image to uint8 prior to saving to suppress this warning.\n",
      "Lossy conversion from float32 to uint8. Range [0.0, 253.796875]. Convert image to uint8 prior to saving to suppress this warning.\n",
      "Lossy conversion from float32 to uint8. Range [0.0, 254.0]. Convert image to uint8 prior to saving to suppress this warning.\n",
      "Lossy conversion from float32 to uint8. Range [0.0, 255.0]. Convert image to uint8 prior to saving to suppress this warning.\n",
      "Lossy conversion from float32 to uint8. Range [0.0, 253.58837890625]. Convert image to uint8 prior to saving to suppress this warning.\n",
      "Lossy conversion from float32 to uint8. Range [0.0, 254.20440673828125]. Convert image to uint8 prior to saving to suppress this warning.\n",
      "Lossy conversion from float32 to uint8. Range [0.0, 255.0]. Convert image to uint8 prior to saving to suppress this warning.\n",
      "Lossy conversion from float32 to uint8. Range [0.0, 254.5927734375]. Convert image to uint8 prior to saving to suppress this warning.\n",
      "Lossy conversion from float32 to uint8. Range [0.0, 255.0]. Convert image to uint8 prior to saving to suppress this warning.\n"
     ]
    },
    {
     "name": "stdout",
     "output_type": "stream",
     "text": [
      "img NORMAL2-IM-0110-0001.jpeg done\n",
      "img IM-0084-0001.jpeg done\n",
      "img IM-0059-0001.jpeg done\n",
      "img NORMAL2-IM-0332-0001.jpeg done\n",
      "img NORMAL2-IM-0274-0001.jpeg done\n",
      "img IM-0023-0001.jpeg done\n",
      "img NORMAL2-IM-0348-0001.jpeg done\n",
      "img NORMAL2-IM-0381-0001.jpeg done\n",
      "img IM-0075-0001.jpeg done\n",
      "img NORMAL2-IM-0364-0001.jpeg done\n",
      "img NORMAL2-IM-0222-0001.jpeg done\n",
      "img NORMAL2-IM-0370-0001.jpeg done\n",
      "img NORMAL2-IM-0146-0001.jpeg done\n",
      "img IM-0061-0001.jpeg done\n",
      "img NORMAL2-IM-0285-0001.jpeg done\n",
      "img NORMAL2-IM-0217-0001.jpeg done\n"
     ]
    },
    {
     "name": "stderr",
     "output_type": "stream",
     "text": [
      "Lossy conversion from float32 to uint8. Range [0.0, 254.0]. Convert image to uint8 prior to saving to suppress this warning.\n",
      "Lossy conversion from float32 to uint8. Range [0.0, 255.0]. Convert image to uint8 prior to saving to suppress this warning.\n",
      "Lossy conversion from float32 to uint8. Range [0.0, 254.96923828125]. Convert image to uint8 prior to saving to suppress this warning.\n",
      "Lossy conversion from float32 to uint8. Range [0.0, 253.2109375]. Convert image to uint8 prior to saving to suppress this warning.\n",
      "Lossy conversion from float32 to uint8. Range [0.0, 246.0]. Convert image to uint8 prior to saving to suppress this warning.\n",
      "Lossy conversion from float32 to uint8. Range [0.0, 255.0]. Convert image to uint8 prior to saving to suppress this warning.\n",
      "Lossy conversion from float32 to uint8. Range [0.0, 248.861572265625]. Convert image to uint8 prior to saving to suppress this warning.\n",
      "Lossy conversion from float32 to uint8. Range [0.0, 254.8515625]. Convert image to uint8 prior to saving to suppress this warning.\n",
      "Lossy conversion from float32 to uint8. Range [0.0, 254.9967041015625]. Convert image to uint8 prior to saving to suppress this warning.\n",
      "Lossy conversion from float32 to uint8. Range [0.0, 252.7926025390625]. Convert image to uint8 prior to saving to suppress this warning.\n",
      "Lossy conversion from float32 to uint8. Range [0.0, 254.968505859375]. Convert image to uint8 prior to saving to suppress this warning.\n",
      "Lossy conversion from float32 to uint8. Range [0.0, 255.0]. Convert image to uint8 prior to saving to suppress this warning.\n",
      "Lossy conversion from float32 to uint8. Range [0.0, 254.2283935546875]. Convert image to uint8 prior to saving to suppress this warning.\n"
     ]
    },
    {
     "name": "stdout",
     "output_type": "stream",
     "text": [
      "img NORMAL2-IM-0351-0001.jpeg done\n",
      "img IM-0089-0001.jpeg done\n",
      "img NORMAL2-IM-0092-0001.jpeg done\n",
      "img NORMAL2-IM-0279-0001.jpeg done\n",
      "img NORMAL2-IM-0086-0001.jpeg done\n",
      "img NORMAL2-IM-0345-0001.jpeg done\n",
      "img NORMAL2-IM-0035-0001.jpeg done\n",
      "img IM-0097-0001.jpeg done\n",
      "img NORMAL2-IM-0335-0001.jpeg done\n",
      "img NORMAL2-IM-0045-0001.jpeg done\n",
      "img NORMAL2-IM-0273-0001.jpeg done\n",
      "img NORMAL2-IM-0267-0001.jpeg done\n",
      "img NORMAL2-IM-0051-0001.jpeg done\n"
     ]
    },
    {
     "name": "stderr",
     "output_type": "stream",
     "text": [
      "Lossy conversion from float32 to uint8. Range [0.0, 251.2314453125]. Convert image to uint8 prior to saving to suppress this warning.\n",
      "Lossy conversion from float32 to uint8. Range [0.0, 253.975341796875]. Convert image to uint8 prior to saving to suppress this warning.\n",
      "Lossy conversion from float32 to uint8. Range [0.0, 252.35284423828125]. Convert image to uint8 prior to saving to suppress this warning.\n",
      "Lossy conversion from float32 to uint8. Range [0.0, 254.77734375]. Convert image to uint8 prior to saving to suppress this warning.\n",
      "Lossy conversion from float32 to uint8. Range [0.0, 254.76815795898438]. Convert image to uint8 prior to saving to suppress this warning.\n",
      "Lossy conversion from float32 to uint8. Range [0.0, 255.0]. Convert image to uint8 prior to saving to suppress this warning.\n",
      "Lossy conversion from float32 to uint8. Range [0.0, 252.353759765625]. Convert image to uint8 prior to saving to suppress this warning.\n",
      "Lossy conversion from float32 to uint8. Range [0.0, 253.5553436279297]. Convert image to uint8 prior to saving to suppress this warning.\n",
      "Lossy conversion from float32 to uint8. Range [7.867279052734375, 254.74034118652344]. Convert image to uint8 prior to saving to suppress this warning.\n",
      "Lossy conversion from float32 to uint8. Range [0.0, 255.0]. Convert image to uint8 prior to saving to suppress this warning.\n",
      "Lossy conversion from float32 to uint8. Range [0.0, 254.82421875]. Convert image to uint8 prior to saving to suppress this warning.\n",
      "Lossy conversion from float32 to uint8. Range [0.0, 233.0]. Convert image to uint8 prior to saving to suppress this warning.\n",
      "Lossy conversion from float32 to uint8. Range [0.0, 254.86431884765625]. Convert image to uint8 prior to saving to suppress this warning.\n"
     ]
    },
    {
     "name": "stdout",
     "output_type": "stream",
     "text": [
      "img NORMAL2-IM-0098-0001.jpeg done\n",
      "img NORMAL2-IM-0321-0001.jpeg done\n",
      "img NORMAL2-IM-0117-0001.jpeg done\n",
      "img IM-0083-0001.jpeg done\n",
      "img IM-0030-0001.jpeg done\n",
      "img NORMAL2-IM-0246-0001.jpeg done\n",
      "img NORMAL2-IM-0300-0001.jpeg done\n",
      "img IM-0011-0001.jpeg done\n",
      "img IM-0005-0001.jpeg done\n",
      "img NORMAL2-IM-0252-0001.jpeg done\n",
      "img IM-0029-0001.jpeg done\n",
      "img NORMAL2-IM-0081-0001.jpeg done\n",
      "img NORMAL2-IM-0338-0001.jpeg done\n"
     ]
    },
    {
     "name": "stderr",
     "output_type": "stream",
     "text": [
      "Lossy conversion from float32 to uint8. Range [0.0, 254.765625]. Convert image to uint8 prior to saving to suppress this warning.\n",
      "Lossy conversion from float32 to uint8. Range [0.0, 253.7205352783203]. Convert image to uint8 prior to saving to suppress this warning.\n",
      "Lossy conversion from float32 to uint8. Range [0.0, 254.736328125]. Convert image to uint8 prior to saving to suppress this warning.\n",
      "Lossy conversion from float32 to uint8. Range [4.05078125, 254.34375]. Convert image to uint8 prior to saving to suppress this warning.\n",
      "Lossy conversion from float32 to uint8. Range [0.0, 254.6171875]. Convert image to uint8 prior to saving to suppress this warning.\n",
      "Lossy conversion from float32 to uint8. Range [0.0, 240.17041015625]. Convert image to uint8 prior to saving to suppress this warning.\n",
      "Lossy conversion from float32 to uint8. Range [0.0, 250.13998413085938]. Convert image to uint8 prior to saving to suppress this warning.\n",
      "Lossy conversion from float32 to uint8. Range [0.0, 250.53680419921875]. Convert image to uint8 prior to saving to suppress this warning.\n",
      "Lossy conversion from float32 to uint8. Range [3.4453125, 235.294921875]. Convert image to uint8 prior to saving to suppress this warning.\n",
      "Lossy conversion from float32 to uint8. Range [0.0, 254.81155395507812]. Convert image to uint8 prior to saving to suppress this warning.\n"
     ]
    },
    {
     "name": "stdout",
     "output_type": "stream",
     "text": [
      "img IM-0101-0001.jpeg done\n",
      "img NORMAL2-IM-0095-0001.jpeg done\n",
      "img NORMAL2-IM-0210-0001.jpeg done\n",
      "img NORMAL2-IM-0282-0001.jpeg done\n",
      "img NORMAL2-IM-0007-0001.jpeg done\n",
      "img NORMAL2-IM-0141-0001.jpeg done\n",
      "img NORMAL2-IM-0013-0001.jpeg done\n",
      "img NORMAL2-IM-0319-0001.jpeg done\n",
      "img IM-0017-0001.jpeg done\n",
      "img NORMAL2-IM-0130-0001.jpeg done\n"
     ]
    },
    {
     "name": "stderr",
     "output_type": "stream",
     "text": [
      "Lossy conversion from float32 to uint8. Range [0.0, 255.0]. Convert image to uint8 prior to saving to suppress this warning.\n",
      "Lossy conversion from float32 to uint8. Range [0.0, 254.8515625]. Convert image to uint8 prior to saving to suppress this warning.\n",
      "Lossy conversion from float32 to uint8. Range [0.0, 255.0]. Convert image to uint8 prior to saving to suppress this warning.\n",
      "Lossy conversion from float32 to uint8. Range [12.797271728515625, 254.94921875]. Convert image to uint8 prior to saving to suppress this warning.\n",
      "Lossy conversion from float32 to uint8. Range [0.0, 252.6541748046875]. Convert image to uint8 prior to saving to suppress this warning.\n",
      "Lossy conversion from float32 to uint8. Range [0.0, 253.89306640625]. Convert image to uint8 prior to saving to suppress this warning.\n",
      "Lossy conversion from float32 to uint8. Range [0.0, 254.986572265625]. Convert image to uint8 prior to saving to suppress this warning.\n",
      "Lossy conversion from float32 to uint8. Range [0.0, 254.38189697265625]. Convert image to uint8 prior to saving to suppress this warning.\n",
      "Lossy conversion from float32 to uint8. Range [0.0, 254.6064453125]. Convert image to uint8 prior to saving to suppress this warning.\n",
      "Lossy conversion from float32 to uint8. Range [0.0, 242.0]. Convert image to uint8 prior to saving to suppress this warning.\n",
      "Lossy conversion from float32 to uint8. Range [0.0, 254.9765625]. Convert image to uint8 prior to saving to suppress this warning.\n",
      "Lossy conversion from float32 to uint8. Range [0.0, 255.0]. Convert image to uint8 prior to saving to suppress this warning.\n",
      "Lossy conversion from float32 to uint8. Range [0.0, 252.77032470703125]. Convert image to uint8 prior to saving to suppress this warning.\n"
     ]
    },
    {
     "name": "stdout",
     "output_type": "stream",
     "text": [
      "img NORMAL2-IM-0289-0001.jpeg done\n",
      "img IM-0079-0001.jpeg done\n",
      "img NORMAL2-IM-0312-0001.jpeg done\n",
      "img IM-0003-0001.jpeg done\n",
      "img NORMAL2-IM-0368-0001.jpeg done\n",
      "img IM-0033-0001-0002.jpeg done\n",
      "img IM-0091-0001.jpeg done\n",
      "img NORMAL2-IM-0275-0001.jpeg done\n",
      "img NORMAL2-IM-0374-0001-0001.jpeg done\n",
      "img NORMAL2-IM-0105-0001.jpeg done\n",
      "img NORMAL2-IM-0333-0001.jpeg done\n",
      "img IM-0022-0001.jpeg done\n",
      "img NORMAL2-IM-0349-0001.jpeg done\n"
     ]
    },
    {
     "name": "stderr",
     "output_type": "stream",
     "text": [
      "Lossy conversion from float32 to uint8. Range [0.0, 253.49395751953125]. Convert image to uint8 prior to saving to suppress this warning.\n",
      "Lossy conversion from float32 to uint8. Range [0.0, 255.0]. Convert image to uint8 prior to saving to suppress this warning.\n",
      "Lossy conversion from float32 to uint8. Range [0.0, 254.6875]. Convert image to uint8 prior to saving to suppress this warning.\n",
      "Lossy conversion from float32 to uint8. Range [0.0, 254.00494384765625]. Convert image to uint8 prior to saving to suppress this warning.\n",
      "Lossy conversion from float32 to uint8. Range [0.0, 255.0]. Convert image to uint8 prior to saving to suppress this warning.\n",
      "Lossy conversion from float32 to uint8. Range [0.0, 255.0]. Convert image to uint8 prior to saving to suppress this warning.\n",
      "Lossy conversion from float32 to uint8. Range [0.0, 250.56808471679688]. Convert image to uint8 prior to saving to suppress this warning.\n",
      "Lossy conversion from float32 to uint8. Range [0.6875, 253.1875]. Convert image to uint8 prior to saving to suppress this warning.\n",
      "Lossy conversion from float32 to uint8. Range [0.0, 254.7637939453125]. Convert image to uint8 prior to saving to suppress this warning.\n",
      "Lossy conversion from float32 to uint8. Range [0.0, 254.98370361328125]. Convert image to uint8 prior to saving to suppress this warning.\n",
      "Lossy conversion from float32 to uint8. Range [0.0, 255.0]. Convert image to uint8 prior to saving to suppress this warning.\n",
      "Lossy conversion from float32 to uint8. Range [0.0, 254.23046875]. Convert image to uint8 prior to saving to suppress this warning.\n",
      "Lossy conversion from float32 to uint8. Range [0.0, 252.48046875]. Convert image to uint8 prior to saving to suppress this warning.\n",
      "Lossy conversion from float32 to uint8. Range [0.03515625, 245.23501586914062]. Convert image to uint8 prior to saving to suppress this warning.\n"
     ]
    },
    {
     "name": "stdout",
     "output_type": "stream",
     "text": [
      "img NORMAL2-IM-0380-0001.jpeg done\n",
      "img IM-0036-0001.jpeg done\n",
      "img NORMAL2-IM-0327-0001.jpeg done\n",
      "img NORMAL2-IM-0111-0001.jpeg done\n",
      "img IM-0085-0001.jpeg done\n",
      "img NORMAL2-IM-0237-0001.jpeg done\n",
      "img NORMAL2-IM-0129-0001.jpeg done\n",
      "img NORMAL2-IM-0259-0001.jpeg done\n",
      "img NORMAL2-IM-0290-0001.jpeg done\n",
      "img NORMAL2-IM-0278-0001.jpeg done\n",
      "img NORMAL2-IM-0350-0001.jpeg done\n",
      "img IM-0041-0001.jpeg done\n",
      "img IM-0107-0001.jpeg done\n",
      "img IM-0006-0001.jpeg done\n"
     ]
    },
    {
     "name": "stderr",
     "output_type": "stream",
     "text": [
      "Lossy conversion from float32 to uint8. Range [0.0, 255.0]. Convert image to uint8 prior to saving to suppress this warning.\n",
      "Lossy conversion from float32 to uint8. Range [0.0, 254.8984375]. Convert image to uint8 prior to saving to suppress this warning.\n",
      "Lossy conversion from float32 to uint8. Range [0.0, 227.0]. Convert image to uint8 prior to saving to suppress this warning.\n",
      "Lossy conversion from float32 to uint8. Range [0.0, 254.09375]. Convert image to uint8 prior to saving to suppress this warning.\n",
      "Lossy conversion from float32 to uint8. Range [0.0, 254.5078125]. Convert image to uint8 prior to saving to suppress this warning.\n",
      "Lossy conversion from float32 to uint8. Range [0.0, 254.467041015625]. Convert image to uint8 prior to saving to suppress this warning.\n",
      "Lossy conversion from float32 to uint8. Range [0.0, 255.0]. Convert image to uint8 prior to saving to suppress this warning.\n",
      "Lossy conversion from float32 to uint8. Range [0.0, 189.63818359375]. Convert image to uint8 prior to saving to suppress this warning.\n",
      "Lossy conversion from float32 to uint8. Range [8.94305419921875, 254.7047119140625]. Convert image to uint8 prior to saving to suppress this warning.\n",
      "Lossy conversion from float32 to uint8. Range [0.0, 243.16015625]. Convert image to uint8 prior to saving to suppress this warning.\n",
      "Lossy conversion from float32 to uint8. Range [0.0, 254.8203125]. Convert image to uint8 prior to saving to suppress this warning.\n",
      "Lossy conversion from float32 to uint8. Range [0.0, 254.1640625]. Convert image to uint8 prior to saving to suppress this warning.\n",
      "Lossy conversion from float32 to uint8. Range [0.0, 252.13836669921875]. Convert image to uint8 prior to saving to suppress this warning.\n"
     ]
    },
    {
     "name": "stdout",
     "output_type": "stream",
     "text": [
      "img NORMAL2-IM-0251-0001.jpeg done\n",
      "img NORMAL2-IM-0317-0001.jpeg done\n",
      "img NORMAL2-IM-0135-0001.jpeg done\n",
      "img NORMAL2-IM-0303-0001.jpeg done\n",
      "img NORMAL2-IM-0073-0001.jpeg done\n",
      "img IM-0049-0001.jpeg done\n",
      "img NORMAL2-IM-0322-0001.jpeg done\n",
      "img NORMAL2-IM-0052-0001.jpeg done\n",
      "img IM-0033-0001.jpeg done\n",
      "img NORMAL2-IM-0028-0001.jpeg done\n",
      "img IM-0027-0001.jpeg done\n",
      "img NORMAL2-IM-0336-0001.jpeg done\n",
      "img NORMAL2-IM-0360-0001.jpeg done\n"
     ]
    },
    {
     "name": "stderr",
     "output_type": "stream",
     "text": [
      "Lossy conversion from float32 to uint8. Range [0.0, 255.0]. Convert image to uint8 prior to saving to suppress this warning.\n",
      "Lossy conversion from float32 to uint8. Range [0.0, 255.0]. Convert image to uint8 prior to saving to suppress this warning.\n",
      "Lossy conversion from float32 to uint8. Range [0.0, 243.98907470703125]. Convert image to uint8 prior to saving to suppress this warning.\n",
      "Lossy conversion from float32 to uint8. Range [0.0, 255.0]. Convert image to uint8 prior to saving to suppress this warning.\n",
      "Lossy conversion from float32 to uint8. Range [0.0, 255.0]. Convert image to uint8 prior to saving to suppress this warning.\n",
      "Lossy conversion from float32 to uint8. Range [0.0, 253.7205352783203]. Convert image to uint8 prior to saving to suppress this warning.\n",
      "Lossy conversion from float32 to uint8. Range [0.0, 254.54177856445312]. Convert image to uint8 prior to saving to suppress this warning.\n",
      "Lossy conversion from float32 to uint8. Range [0.0, 254.6947021484375]. Convert image to uint8 prior to saving to suppress this warning.\n",
      "Lossy conversion from float32 to uint8. Range [0.0, 254.6943359375]. Convert image to uint8 prior to saving to suppress this warning.\n",
      "Lossy conversion from float32 to uint8. Range [0.0, 255.0]. Convert image to uint8 prior to saving to suppress this warning.\n",
      "Lossy conversion from float32 to uint8. Range [0.0, 253.39944458007812]. Convert image to uint8 prior to saving to suppress this warning.\n",
      "Lossy conversion from float32 to uint8. Range [0.0, 254.9765625]. Convert image to uint8 prior to saving to suppress this warning.\n",
      "Lossy conversion from float32 to uint8. Range [0.0, 254.6328125]. Convert image to uint8 prior to saving to suppress this warning.\n"
     ]
    },
    {
     "name": "stdout",
     "output_type": "stream",
     "text": [
      "img IM-0071-0001.jpeg done\n",
      "img NORMAL2-IM-0281-0001.jpeg done\n",
      "img IM-0065-0001.jpeg done\n",
      "img NORMAL2-IM-0374-0001.jpeg done\n",
      "img NORMAL2-IM-0232-0001.jpeg done\n",
      "img NORMAL2-IM-0096-0001.jpeg done\n",
      "img IM-0033-0001-0001.jpeg done\n",
      "img NORMAL2-IM-0374-0001-0002.jpeg done\n",
      "img IM-0102-0001.jpeg done\n",
      "img NORMAL2-IM-0213-0001.jpeg done\n",
      "img NORMAL2-IM-0207-0001.jpeg done\n",
      "img NORMAL2-IM-0341-0001.jpeg done\n",
      "img IM-0050-0001.jpeg done\n"
     ]
    },
    {
     "name": "stderr",
     "output_type": "stream",
     "text": [
      "Lossy conversion from float32 to uint8. Range [0.0, 255.0]. Convert image to uint8 prior to saving to suppress this warning.\n",
      "Lossy conversion from float32 to uint8. Range [11.23828125, 254.848388671875]. Convert image to uint8 prior to saving to suppress this warning.\n",
      "Lossy conversion from float32 to uint8. Range [0.0, 255.0]. Convert image to uint8 prior to saving to suppress this warning.\n",
      "Lossy conversion from float32 to uint8. Range [0.0, 253.75604248046875]. Convert image to uint8 prior to saving to suppress this warning.\n",
      "Lossy conversion from float32 to uint8. Range [0.0, 253.09185791015625]. Convert image to uint8 prior to saving to suppress this warning.\n",
      "Lossy conversion from float32 to uint8. Range [0.0, 255.0]. Convert image to uint8 prior to saving to suppress this warning.\n",
      "Lossy conversion from float32 to uint8. Range [0.0, 251.715576171875]. Convert image to uint8 prior to saving to suppress this warning.\n",
      "Lossy conversion from float32 to uint8. Range [0.0, 251.02734375]. Convert image to uint8 prior to saving to suppress this warning.\n",
      "Lossy conversion from float32 to uint8. Range [0.0, 255.0]. Convert image to uint8 prior to saving to suppress this warning.\n",
      "Lossy conversion from float32 to uint8. Range [0.0, 253.96875]. Convert image to uint8 prior to saving to suppress this warning.\n",
      "Lossy conversion from float32 to uint8. Range [0.0, 242.225341796875]. Convert image to uint8 prior to saving to suppress this warning.\n",
      "Lossy conversion from float32 to uint8. Range [0.0, 254.53125]. Convert image to uint8 prior to saving to suppress this warning.\n"
     ]
    },
    {
     "name": "stdout",
     "output_type": "stream",
     "text": [
      "img IM-0099-0001.jpeg done\n",
      "img IM-0035-0001.jpeg done\n",
      "img IM-0086-0001.jpeg done\n",
      "img IM-0109-0001.jpeg done\n",
      "img NORMAL2-IM-0112-0001.jpeg done\n",
      "img NORMAL2-IM-0330-0001.jpeg done\n",
      "img NORMAL2-IM-0276-0001.jpeg done\n",
      "img IM-0021-0001.jpeg done\n",
      "img NORMAL2-IM-0311-0001.jpeg done\n",
      "img NORMAL2-IM-0305-0001.jpeg done\n",
      "img NORMAL2-IM-0023-0001.jpeg done\n",
      "img NORMAL2-IM-0353-0001.jpeg done\n"
     ]
    },
    {
     "name": "stderr",
     "output_type": "stream",
     "text": [
      "Lossy conversion from float32 to uint8. Range [0.0, 254.955322265625]. Convert image to uint8 prior to saving to suppress this warning.\n",
      "Lossy conversion from float32 to uint8. Range [0.0, 235.77392578125]. Convert image to uint8 prior to saving to suppress this warning.\n",
      "Lossy conversion from float32 to uint8. Range [0.0, 254.12045288085938]. Convert image to uint8 prior to saving to suppress this warning.\n",
      "Lossy conversion from float32 to uint8. Range [0.0, 255.0]. Convert image to uint8 prior to saving to suppress this warning.\n",
      "Lossy conversion from float32 to uint8. Range [0.0, 253.9140625]. Convert image to uint8 prior to saving to suppress this warning.\n",
      "Lossy conversion from float32 to uint8. Range [0.0, 255.0]. Convert image to uint8 prior to saving to suppress this warning.\n",
      "Lossy conversion from float32 to uint8. Range [0.0, 254.912841796875]. Convert image to uint8 prior to saving to suppress this warning.\n",
      "Lossy conversion from float32 to uint8. Range [0.0, 254.0379638671875]. Convert image to uint8 prior to saving to suppress this warning.\n",
      "Lossy conversion from float32 to uint8. Range [0.0, 255.0]. Convert image to uint8 prior to saving to suppress this warning.\n",
      "Lossy conversion from float32 to uint8. Range [0.0, 254.4686279296875]. Convert image to uint8 prior to saving to suppress this warning.\n",
      "Lossy conversion from float32 to uint8. Range [0.0, 255.0]. Convert image to uint8 prior to saving to suppress this warning.\n",
      "Lossy conversion from float32 to uint8. Range [10.22265625, 255.0]. Convert image to uint8 prior to saving to suppress this warning.\n",
      "Lossy conversion from float32 to uint8. Range [0.0, 254.828125]. Convert image to uint8 prior to saving to suppress this warning.\n"
     ]
    },
    {
     "name": "stdout",
     "output_type": "stream",
     "text": [
      "img NORMAL2-IM-0329-0001.jpeg done\n",
      "img NORMAL2-IM-0059-0001.jpeg done\n",
      "img IM-0110-0001.jpeg done\n",
      "img NORMAL2-IM-0347-0001.jpeg done\n",
      "img NORMAL2-IM-0171-0001.jpeg done\n",
      "img NORMAL2-IM-0201-0001.jpeg done\n",
      "img IM-0077-0001.jpeg done\n",
      "img NORMAL2-IM-0150-0001.jpeg done\n",
      "img NORMAL2-IM-0199-0001.jpeg done\n",
      "img NORMAL2-IM-0366-0001.jpeg done\n",
      "img NORMAL2-IM-0372-0001.jpeg done\n",
      "img IM-0019-0001.jpeg done\n",
      "img NORMAL2-IM-0287-0001.jpeg done\n"
     ]
    },
    {
     "name": "stderr",
     "output_type": "stream",
     "text": [
      "Lossy conversion from float32 to uint8. Range [0.0, 254.9921875]. Convert image to uint8 prior to saving to suppress this warning.\n",
      "Lossy conversion from float32 to uint8. Range [0.0, 254.547119140625]. Convert image to uint8 prior to saving to suppress this warning.\n",
      "Lossy conversion from float32 to uint8. Range [0.0, 253.65625]. Convert image to uint8 prior to saving to suppress this warning.\n",
      "Lossy conversion from float32 to uint8. Range [0.0, 254.828125]. Convert image to uint8 prior to saving to suppress this warning.\n",
      "Lossy conversion from float32 to uint8. Range [0.0, 253.109375]. Convert image to uint8 prior to saving to suppress this warning.\n",
      "Lossy conversion from float32 to uint8. Range [0.0, 252.227294921875]. Convert image to uint8 prior to saving to suppress this warning.\n",
      "Lossy conversion from float32 to uint8. Range [11.00714111328125, 254.57421875]. Convert image to uint8 prior to saving to suppress this warning.\n",
      "Lossy conversion from float32 to uint8. Range [0.0, 216.5289306640625]. Convert image to uint8 prior to saving to suppress this warning.\n",
      "Lossy conversion from float32 to uint8. Range [0.0, 219.61920166015625]. Convert image to uint8 prior to saving to suppress this warning.\n",
      "Lossy conversion from float32 to uint8. Range [0.0, 248.6136474609375]. Convert image to uint8 prior to saving to suppress this warning.\n",
      "Lossy conversion from float32 to uint8. Range [0.0, 251.46246337890625]. Convert image to uint8 prior to saving to suppress this warning.\n",
      "Lossy conversion from float32 to uint8. Range [6.484375, 255.0]. Convert image to uint8 prior to saving to suppress this warning.\n",
      "Lossy conversion from float32 to uint8. Range [0.0, 249.84042358398438]. Convert image to uint8 prior to saving to suppress this warning.\n",
      "Lossy conversion from float32 to uint8. Range [0.0, 253.8084716796875]. Convert image to uint8 prior to saving to suppress this warning.\n"
     ]
    },
    {
     "name": "stdout",
     "output_type": "stream",
     "text": [
      "img IM-0063-0001.jpeg done\n",
      "img IM-0069-0001.jpeg done\n",
      "img NORMAL2-IM-0072-0001.jpeg done\n",
      "img NORMAL2-IM-0302-0001.jpeg done\n",
      "img IM-0013-0001.jpeg done\n",
      "img NORMAL2-IM-0378-0001.jpeg done\n",
      "img IM-0007-0001.jpeg done\n",
      "img NORMAL2-IM-0316-0001.jpeg done\n",
      "img NORMAL2-IM-0120-0001.jpeg done\n",
      "img NORMAL2-IM-0066-0001.jpeg done\n",
      "img NORMAL2-IM-0337-0001.jpeg done\n",
      "img NORMAL2-IM-0271-0001.jpeg done\n",
      "img IM-0095-0001.jpeg done\n",
      "img IM-0081-0001.jpeg done\n"
     ]
    },
    {
     "name": "stderr",
     "output_type": "stream",
     "text": [
      "Lossy conversion from float32 to uint8. Range [0.0, 250.998779296875]. Convert image to uint8 prior to saving to suppress this warning.\n",
      "Lossy conversion from float32 to uint8. Range [0.0, 232.74343872070312]. Convert image to uint8 prior to saving to suppress this warning.\n",
      "Lossy conversion from float32 to uint8. Range [0.0, 227.078125]. Convert image to uint8 prior to saving to suppress this warning.\n",
      "Lossy conversion from float32 to uint8. Range [0.0, 253.57891845703125]. Convert image to uint8 prior to saving to suppress this warning.\n",
      "Lossy conversion from float32 to uint8. Range [0.0, 253.09375]. Convert image to uint8 prior to saving to suppress this warning.\n",
      "Lossy conversion from float32 to uint8. Range [0.0, 255.0]. Convert image to uint8 prior to saving to suppress this warning.\n",
      "Lossy conversion from float32 to uint8. Range [0.0, 255.0]. Convert image to uint8 prior to saving to suppress this warning.\n",
      "Lossy conversion from float32 to uint8. Range [0.0, 254.96658325195312]. Convert image to uint8 prior to saving to suppress this warning.\n",
      "Lossy conversion from float32 to uint8. Range [0.560577392578125, 249.04116821289062]. Convert image to uint8 prior to saving to suppress this warning.\n",
      "Lossy conversion from float32 to uint8. Range [0.0, 251.3828125]. Convert image to uint8 prior to saving to suppress this warning.\n",
      "Lossy conversion from float32 to uint8. Range [0.0, 254.78125]. Convert image to uint8 prior to saving to suppress this warning.\n",
      "Lossy conversion from float32 to uint8. Range [0.0, 253.04296875]. Convert image to uint8 prior to saving to suppress this warning.\n",
      "Lossy conversion from float32 to uint8. Range [0.0, 255.0]. Convert image to uint8 prior to saving to suppress this warning.\n"
     ]
    },
    {
     "name": "stdout",
     "output_type": "stream",
     "text": [
      "img NORMAL2-IM-0323-0001.jpeg done\n",
      "img NORMAL2-IM-0359-0001.jpeg done\n",
      "img NORMAL2-IM-0029-0001.jpeg done\n",
      "img NORMAL2-IM-0139-0001.jpeg done\n",
      "img NORMAL2-IM-0249-0001.jpeg done\n",
      "img NORMAL2-IM-0280-0001.jpeg done\n",
      "img NORMAL2-IM-0233-0001.jpeg done\n",
      "img NORMAL2-IM-0361-0001.jpeg done\n",
      "img IM-0011-0001-0002.jpeg done\n",
      "img IM-0070-0001.jpeg done\n",
      "img NORMAL2-IM-0294-0001.jpeg done\n",
      "img NORMAL2-IM-0340-0001.jpeg done\n",
      "img NORMAL2-IM-0206-0001.jpeg done\n"
     ]
    },
    {
     "name": "stderr",
     "output_type": "stream",
     "text": [
      "Lossy conversion from float32 to uint8. Range [0.0, 254.43057250976562]. Convert image to uint8 prior to saving to suppress this warning.\n",
      "Lossy conversion from float32 to uint8. Range [0.0, 255.0]. Convert image to uint8 prior to saving to suppress this warning.\n",
      "Lossy conversion from float32 to uint8. Range [0.0, 254.61505126953125]. Convert image to uint8 prior to saving to suppress this warning.\n",
      "Lossy conversion from float32 to uint8. Range [0.0, 253.236328125]. Convert image to uint8 prior to saving to suppress this warning.\n",
      "Lossy conversion from float32 to uint8. Range [0.0, 254.84375]. Convert image to uint8 prior to saving to suppress this warning.\n",
      "Lossy conversion from float32 to uint8. Range [0.0, 254.96868896484375]. Convert image to uint8 prior to saving to suppress this warning.\n",
      "Lossy conversion from float32 to uint8. Range [0.0, 253.27804565429688]. Convert image to uint8 prior to saving to suppress this warning.\n",
      "Lossy conversion from float32 to uint8. Range [0.0, 253.34033203125]. Convert image to uint8 prior to saving to suppress this warning.\n",
      "Lossy conversion from float32 to uint8. Range [0.3306884765625, 250.2890625]. Convert image to uint8 prior to saving to suppress this warning.\n",
      "Lossy conversion from float32 to uint8. Range [0.0, 251.6953125]. Convert image to uint8 prior to saving to suppress this warning.\n",
      "Lossy conversion from float32 to uint8. Range [0.0, 238.48300170898438]. Convert image to uint8 prior to saving to suppress this warning.\n",
      "Lossy conversion from float32 to uint8. Range [2.212890625, 254.8125]. Convert image to uint8 prior to saving to suppress this warning.\n",
      "Lossy conversion from float32 to uint8. Range [0.0, 254.9912109375]. Convert image to uint8 prior to saving to suppress this warning.\n",
      "Lossy conversion from float32 to uint8. Range [0.5, 249.760009765625]. Convert image to uint8 prior to saving to suppress this warning.\n"
     ]
    },
    {
     "name": "stdout",
     "output_type": "stream",
     "text": [
      "img NORMAL2-IM-0030-0001.jpeg done\n",
      "img IM-0103-0001.jpeg done\n",
      "img IM-0045-0001.jpeg done\n",
      "img NORMAL2-IM-0354-0001.jpeg done\n",
      "img NORMAL2-IM-0041-0001.jpeg done\n",
      "img NORMAL2-IM-0277-0001.jpeg done\n",
      "img NORMAL2-IM-0107-0001.jpeg done\n",
      "img NORMAL2-IM-0331-0001.jpeg done\n",
      "img IM-0093-0001.jpeg done\n",
      "img NORMAL2-IM-0219-0001.jpeg done\n",
      "img IM-0087-0001.jpeg done\n",
      "img NORMAL2-IM-0173-0001-0001.jpeg done\n",
      "img NORMAL2-IM-0325-0001.jpeg done\n",
      "img IM-0015-0001.jpeg done\n"
     ]
    },
    {
     "name": "stderr",
     "output_type": "stream",
     "text": [
      "Lossy conversion from float32 to uint8. Range [0.0, 254.96484375]. Convert image to uint8 prior to saving to suppress this warning.\n",
      "Lossy conversion from float32 to uint8. Range [0.0, 249.31640625]. Convert image to uint8 prior to saving to suppress this warning.\n",
      "Lossy conversion from float32 to uint8. Range [0.0, 254.328125]. Convert image to uint8 prior to saving to suppress this warning.\n",
      "Lossy conversion from float32 to uint8. Range [0.0, 255.0]. Convert image to uint8 prior to saving to suppress this warning.\n",
      "Lossy conversion from float32 to uint8. Range [0.0, 248.85838317871094]. Convert image to uint8 prior to saving to suppress this warning.\n",
      "Lossy conversion from float32 to uint8. Range [0.0, 253.74383544921875]. Convert image to uint8 prior to saving to suppress this warning.\n",
      "Lossy conversion from float32 to uint8. Range [0.0, 255.0]. Convert image to uint8 prior to saving to suppress this warning.\n",
      "Lossy conversion from float32 to uint8. Range [9.121231079101562, 254.9904327392578]. Convert image to uint8 prior to saving to suppress this warning.\n",
      "Lossy conversion from float32 to uint8. Range [0.0, 251.4488525390625]. Convert image to uint8 prior to saving to suppress this warning.\n",
      "Lossy conversion from float32 to uint8. Range [0.0, 255.0]. Convert image to uint8 prior to saving to suppress this warning.\n",
      "Lossy conversion from float32 to uint8. Range [0.0, 255.0]. Convert image to uint8 prior to saving to suppress this warning.\n",
      "Lossy conversion from float32 to uint8. Range [8.991958618164062, 254.0234375]. Convert image to uint8 prior to saving to suppress this warning.\n",
      "Lossy conversion from float32 to uint8. Range [0.0, 225.03515625]. Convert image to uint8 prior to saving to suppress this warning.\n",
      "Lossy conversion from float32 to uint8. Range [0.0, 254.69754028320312]. Convert image to uint8 prior to saving to suppress this warning.\n"
     ]
    },
    {
     "name": "stdout",
     "output_type": "stream",
     "text": [
      "img NORMAL2-IM-0238-0001.jpeg done\n",
      "img NORMAL2-IM-0132-0001.jpeg done\n",
      "img NORMAL2-IM-0304-0001.jpeg done\n",
      "img NORMAL2-IM-0256-0001.jpeg done\n",
      "img NORMAL2-IM-0060-0001.jpeg done\n",
      "img NORMAL2-IM-0310-0001.jpeg done\n",
      "img NORMAL2-IM-0195-0001.jpeg done\n",
      "img IM-0001-0001.jpeg done\n",
      "img IM-0111-0001.jpeg done\n",
      "img NORMAL2-IM-0346-0001.jpeg done\n",
      "img NORMAL2-IM-0352-0001.jpeg done\n",
      "img IM-0039-0001.jpeg done\n",
      "img NORMAL2-IM-0058-0001.jpeg done\n",
      "img NORMAL2-IM-0328-0001.jpeg done\n"
     ]
    },
    {
     "name": "stderr",
     "output_type": "stream",
     "text": [
      "Lossy conversion from float32 to uint8. Range [1.720458984375, 244.73779296875]. Convert image to uint8 prior to saving to suppress this warning.\n",
      "Lossy conversion from float32 to uint8. Range [0.0, 253.7734375]. Convert image to uint8 prior to saving to suppress this warning.\n",
      "Lossy conversion from float32 to uint8. Range [0.0, 203.50772094726562]. Convert image to uint8 prior to saving to suppress this warning.\n",
      "Lossy conversion from float32 to uint8. Range [0.0, 232.0]. Convert image to uint8 prior to saving to suppress this warning.\n",
      "Lossy conversion from float32 to uint8. Range [0.0, 254.1890869140625]. Convert image to uint8 prior to saving to suppress this warning.\n",
      "Lossy conversion from float32 to uint8. Range [0.0, 210.26806640625]. Convert image to uint8 prior to saving to suppress this warning.\n",
      "Lossy conversion from float32 to uint8. Range [0.0, 254.9644775390625]. Convert image to uint8 prior to saving to suppress this warning.\n",
      "Lossy conversion from float32 to uint8. Range [0.0, 201.775390625]. Convert image to uint8 prior to saving to suppress this warning.\n",
      "Lossy conversion from float32 to uint8. Range [2.5970458984375, 255.0]. Convert image to uint8 prior to saving to suppress this warning.\n",
      "Lossy conversion from float32 to uint8. Range [0.0, 255.0]. Convert image to uint8 prior to saving to suppress this warning.\n",
      "Lossy conversion from float32 to uint8. Range [0.0, 254.6240234375]. Convert image to uint8 prior to saving to suppress this warning.\n"
     ]
    },
    {
     "name": "stdout",
     "output_type": "stream",
     "text": [
      "img IM-0043-0001.jpeg done\n",
      "img IM-0105-0001.jpeg done\n",
      "img NORMAL2-IM-0373-0001.jpeg done\n",
      "img NORMAL2-IM-0145-0001.jpeg done\n",
      "img NORMAL2-IM-0286-0001.jpeg done\n",
      "img NORMAL2-IM-0079-0001.jpeg done\n",
      "img NORMAL2-IM-0309-0001.jpeg done\n",
      "img NORMAL2-IM-0246-0001-0001.jpeg done\n",
      "img NORMAL2-IM-0292-0001.jpeg done\n",
      "img NORMAL2-IM-0221-0001.jpeg done\n",
      "img NORMAL2-IM-0198-0001.jpeg done\n",
      "******************** TEST NEG COMPLETED *********************************\n"
     ]
    }
   ],
   "source": [
    "# ## Train Positive\n",
    "# pos_train_path = \"Data/chest_xray/train/PNEUMONIA/\"\n",
    "# train_pos_images = os.listdir(pos_train_path)\n",
    "# resized_positive_save_path = \"resizedImages/train/PNEUMONIA/\"\n",
    "# for x in train_pos_images:\n",
    "#     img_path = pos_train_path+x\n",
    "#     img_path = tf.io.read_file(img_path)\n",
    "#     img = tf.image.decode_jpeg(img_path, channels=3)\n",
    "#     resized_img = tf.dtypes.cast(tf.image.resize(img, (128,128)), tf.float32)\n",
    "#     imageio.imwrite(resized_positive_save_path+x, resized_img)\n",
    "#     print(\"img {} done\".format(x))    \n",
    "\n",
    "# print(\"******************** TRAIN POS COMPLETED *********************************\")\n",
    "# ## Train Negative\n",
    "\n",
    "# neg_train_path = \"Data/chest_xray/train/NORMAL/\"\n",
    "# train_neg_images = os.listdir(neg_train_path)\n",
    "# resized_negative_save_path = \"resizedImages/train/NORMAL/\"\n",
    "# for x in train_neg_images:\n",
    "#     img_path = neg_train_path+x\n",
    "#     img_path = tf.io.read_file(img_path)\n",
    "#     img = tf.image.decode_jpeg(img_path, channels=3)\n",
    "#     resized_img = tf.dtypes.cast(tf.image.resize(img, (128,128)), tf.float32)\n",
    "#     imageio.imwrite(resized_negative_save_path+x, resized_img)\n",
    "#     print(\"img {} done\".format(x))    \n",
    "# print(\"******************** TRAIN NEG COMPLETED *********************************\")\n",
    "\n",
    "# ## Test Positive\n",
    "# pos_test_path = \"Data/chest_xray/test/PNEUMONIA/\"\n",
    "# test_pos_images = os.listdir(pos_test_path)\n",
    "# resized_positive_save_path = \"resizedImages/test/PNEUMONIA/\"\n",
    "# for x in test_pos_images:\n",
    "#     img_path = pos_test_path+x\n",
    "#     img_path = tf.io.read_file(img_path)\n",
    "#     img = tf.image.decode_jpeg(img_path, channels=3)\n",
    "#     resized_img = tf.dtypes.cast(tf.image.resize(img, (128,128)), tf.float32)\n",
    "#     imageio.imwrite(resized_positive_save_path+x, resized_img)\n",
    "#     print(\"img {} done\".format(x))    \n",
    "\n",
    "# print(\"******************** TEST POS COMPLETED *********************************\")\n",
    "\n",
    "# ## Test Negative\n",
    "# neg_test_path = \"Data/chest_xray/test/NORMAL/\"\n",
    "# test_neg_images = os.listdir(neg_test_path)\n",
    "# resized_negative_save_path = \"resizedImages/test/NORMAL/\"\n",
    "# for x in test_neg_images:\n",
    "#     img_path = neg_test_path+x\n",
    "#     img_path = tf.io.read_file(img_path)\n",
    "#     img = tf.image.decode_jpeg(img_path, channels=3)\n",
    "#     resized_img = tf.dtypes.cast(tf.image.resize(img, (128,128)), tf.float32)\n",
    "#     imageio.imwrite(resized_negative_save_path+x, resized_img)\n",
    "#     print(\"img {} done\".format(x))    \n",
    "# print(\"******************** TEST NEG COMPLETED *********************************\")\n",
    "\n",
    "\n",
    "        \n",
    "        "
   ]
  },
  {
   "cell_type": "markdown",
   "metadata": {},
   "source": [
    "## Loading, resizing, classifying images"
   ]
  },
  {
   "cell_type": "code",
   "execution_count": 2,
   "metadata": {},
   "outputs": [],
   "source": [
    "AUTOTUNE = tf.data.experimental.AUTOTUNE\n",
    "          \n",
    "def returnLabel(path):\n",
    "    imgClass = tf.strings.split(path,'/')[-2]\n",
    "    return 0 if imgClass == 'NORMAL' else 1\n",
    "\n",
    "def returnImg(path):\n",
    "    img = tf.io.read_file(path)\n",
    "    img = tf.image.decode_jpeg(img, channels=3)\n",
    "    img = tf.image.convert_image_dtype(img, tf.float32)\n",
    "    imgClass = returnLabel(path)\n",
    "    return tf.image.resize(img, (256,256)), imgClass\n",
    "\n",
    "def getX(image, label):\n",
    "    return image\n",
    "\n",
    "def getY(images, label):\n",
    "    return label\n"
   ]
  },
  {
   "cell_type": "code",
   "execution_count": 273,
   "metadata": {},
   "outputs": [
    {
     "data": {
      "text/plain": [
       "<ParallelMapDataset shapes: ((256, 256, 3), ()), types: (tf.float32, tf.int32)>"
      ]
     },
     "execution_count": 273,
     "metadata": {},
     "output_type": "execute_result"
    }
   ],
   "source": [
    "train_path = 'Data/chest_xray/train'\n",
    "list_ds = tf.data.Dataset.list_files(str(train_path+'/*/*'))\n",
    "labeled_ds = list_ds.map(returnImg, num_parallel_calls=AUTOTUNE)\n",
    "labeled_ds"
   ]
  },
  {
   "cell_type": "code",
   "execution_count": 166,
   "metadata": {},
   "outputs": [],
   "source": [
    "X_train = labeled_ds.map(getX)\n",
    "Y_train = labeled_ds.map(getY)"
   ]
  },
  {
   "cell_type": "markdown",
   "metadata": {},
   "source": [
    "## Model\n"
   ]
  },
  {
   "cell_type": "code",
   "execution_count": 104,
   "metadata": {},
   "outputs": [],
   "source": [
    "# def CNN_forward_propagation(X):\n",
    "    \n",
    "#     conv_layer_one = tf.keras.layers.Conv2D(8,5, strides=(5,5), padding='SAME', activation='tanh', use_bias=True, input_shape=X.shape)(X)\n",
    "#     avgPool_layer_one = tf.keras.layers.AveragePooling2D(pool_size=(2,2), data_format='channels_last')(conv_layer_one)\n",
    "\n",
    "#     conv_layer_two = tf.keras.layers.Conv2D(10, 5, activation='tanh', use_bias=True, input_shape=avgPool_layer_one.shape)(avgPool_layer_one)\n",
    "#     avgPool_layer_two = tf.keras.layers.AveragePooling2D(pool_size=(2,2), strides=(1,1), data_format='channels_last')(conv_layer_two)\n",
    "    \n",
    "#     print(\"cL1: {}\\nAP1: {}\\ncL2: {}\\nAP2: {}\".format(conv_layer_one.shape, avgPool_layer_one.shape, conv_layer_two.shape, avgPool_layer_two.shape))\n",
    "    \n",
    "#     flat_layer = tf.keras.layers.Flatten()(avgPool_layer_two)\n",
    "#     dense_layer_one = tf.keras.layers.Dense(120, activation='tanh', use_bias=True, input_shape = (flat_layer.shape[1],))\n",
    "# #     print(\"dL1 :\",dense_layer_one.shape)\n",
    "\n",
    "#     return dense_layer_one"
   ]
  },
  {
   "cell_type": "code",
   "execution_count": 290,
   "metadata": {},
   "outputs": [],
   "source": [
    "def nn_model():\n",
    "    model = Sequential()\n",
    "    \n",
    "    model.add(Conv2D(8,5, strides=(5,5), padding='SAME', activation='relu', use_bias=True))\n",
    "    model.add(AveragePooling2D(pool_size=(2,2), data_format='channels_last'))\n",
    "    \n",
    "    model.add(Conv2D(10, 5, activation='relu', use_bias=True))\n",
    "    model.add(AveragePooling2D(pool_size=(2,2), strides=(1,1), data_format='channels_last'))\n",
    "    \n",
    "    model.add(Flatten())\n",
    "    \n",
    "    model.add(Dense(120, activation='relu', use_bias=True))\n",
    "    model.add(Dense(84, activation='relu', use_bias=True))\n",
    "    model.add(Dense(1, activation='sigmoid', use_bias=True))\n",
    "    \n",
    "    model.compile(loss=tf.keras.losses.BinaryCrossentropy(), optimizer=tf.keras.optimizers.Adam(\n",
    "    learning_rate=0.001, beta_1=0.9, beta_2=0.999, epsilon=1e-07), metrics=['accuracy'])\n",
    "    \n",
    "    return model\n",
    "    "
   ]
  },
  {
   "cell_type": "code",
   "execution_count": 292,
   "metadata": {},
   "outputs": [
    {
     "name": "stdout",
     "output_type": "stream",
     "text": [
      "Epoch 1/30\n",
      "2/2 [==============================] - 0s 82ms/step - loss: 0.7034 - accuracy: 0.3363\n",
      "Epoch 2/30\n",
      "2/2 [==============================] - 0s 73ms/step - loss: 0.5734 - accuracy: 0.7429\n",
      "Epoch 3/30\n",
      "2/2 [==============================] - 0s 74ms/step - loss: 0.5675 - accuracy: 0.7429\n",
      "Epoch 4/30\n",
      "2/2 [==============================] - 0s 73ms/step - loss: 0.5604 - accuracy: 0.7429\n",
      "Epoch 5/30\n",
      "2/2 [==============================] - 0s 73ms/step - loss: 0.5649 - accuracy: 0.7429\n",
      "Epoch 6/30\n",
      "2/2 [==============================] - 0s 71ms/step - loss: 0.5529 - accuracy: 0.7429\n",
      "Epoch 7/30\n",
      "2/2 [==============================] - 0s 78ms/step - loss: 0.5454 - accuracy: 0.7429\n",
      "Epoch 8/30\n",
      "2/2 [==============================] - 0s 73ms/step - loss: 0.5363 - accuracy: 0.7429\n",
      "Epoch 9/30\n",
      "2/2 [==============================] - 0s 76ms/step - loss: 0.5169 - accuracy: 0.7429\n",
      "Epoch 10/30\n",
      "2/2 [==============================] - 0s 73ms/step - loss: 0.5172 - accuracy: 0.7429\n",
      "Epoch 11/30\n",
      "2/2 [==============================] - 0s 84ms/step - loss: 0.4847 - accuracy: 0.7435\n",
      "Epoch 12/30\n",
      "2/2 [==============================] - 0s 74ms/step - loss: 0.4755 - accuracy: 0.7889\n",
      "Epoch 13/30\n",
      "2/2 [==============================] - 0s 74ms/step - loss: 0.4390 - accuracy: 0.7496\n",
      "Epoch 14/30\n",
      "2/2 [==============================] - 0s 69ms/step - loss: 0.4213 - accuracy: 0.8836\n",
      "Epoch 15/30\n",
      "2/2 [==============================] - 0s 77ms/step - loss: 0.3775 - accuracy: 0.7951\n",
      "Epoch 16/30\n",
      "2/2 [==============================] - 0s 78ms/step - loss: 0.3340 - accuracy: 0.8438\n",
      "Epoch 17/30\n",
      "2/2 [==============================] - 0s 83ms/step - loss: 0.3120 - accuracy: 0.8953\n",
      "Epoch 18/30\n",
      "2/2 [==============================] - 0s 84ms/step - loss: 0.2759 - accuracy: 0.8986\n",
      "Epoch 19/30\n",
      "2/2 [==============================] - 0s 74ms/step - loss: 0.2736 - accuracy: 0.8970\n",
      "Epoch 20/30\n",
      "2/2 [==============================] - 0s 74ms/step - loss: 0.2618 - accuracy: 0.8877\n",
      "Epoch 21/30\n",
      "2/2 [==============================] - 0s 75ms/step - loss: 0.2366 - accuracy: 0.9026\n",
      "Epoch 22/30\n",
      "2/2 [==============================] - 0s 73ms/step - loss: 0.2454 - accuracy: 0.9003\n",
      "Epoch 23/30\n",
      "2/2 [==============================] - 0s 86ms/step - loss: 0.2858 - accuracy: 0.8740\n",
      "Epoch 24/30\n",
      "2/2 [==============================] - 0s 86ms/step - loss: 0.2443 - accuracy: 0.8928\n",
      "Epoch 25/30\n",
      "2/2 [==============================] - 0s 73ms/step - loss: 0.2535 - accuracy: 0.8940\n",
      "Epoch 26/30\n",
      "2/2 [==============================] - 0s 69ms/step - loss: 0.2465 - accuracy: 0.8934\n",
      "Epoch 27/30\n",
      "2/2 [==============================] - 0s 72ms/step - loss: 0.1990 - accuracy: 0.9206\n",
      "Epoch 28/30\n",
      "2/2 [==============================] - 0s 89ms/step - loss: 0.1972 - accuracy: 0.9195\n",
      "Epoch 29/30\n",
      "2/2 [==============================] - 0s 72ms/step - loss: 0.1986 - accuracy: 0.9197\n",
      "Epoch 30/30\n",
      "2/2 [==============================] - 0s 70ms/step - loss: 0.1827 - accuracy: 0.9270\n"
     ]
    },
    {
     "data": {
      "text/plain": [
       "<tensorflow.python.keras.callbacks.History at 0x6391017d0>"
      ]
     },
     "execution_count": 292,
     "metadata": {},
     "output_type": "execute_result"
    }
   ],
   "source": [
    "epoch = 30\n",
    "batch_size = 128\n",
    "seed = 1 \n",
    "labeled_data = labeled_ds.batch(5100)\n",
    "model = nn_model()\n",
    "\n",
    "model.fit(labeled_data, batch_size=128, epochs=epoch, verbose=1)"
   ]
  },
  {
   "cell_type": "code",
   "execution_count": 294,
   "metadata": {},
   "outputs": [
    {
     "data": {
      "text/plain": [
       "[<tensorflow.python.keras.metrics.Mean at 0x6389cc150>,\n",
       " <tensorflow.python.keras.metrics.MeanMetricWrapper at 0x639187b10>]"
      ]
     },
     "execution_count": 294,
     "metadata": {},
     "output_type": "execute_result"
    }
   ],
   "source": [
    "model.metrics"
   ]
  },
  {
   "cell_type": "markdown",
   "metadata": {},
   "source": [
    "## Testing"
   ]
  },
  {
   "cell_type": "code",
   "execution_count": 295,
   "metadata": {},
   "outputs": [],
   "source": [
    "def testing(model, test_dataset):    \n",
    "    return model.evaluate(test_dataset, verbose = 1, batch_size=128, return_dict=True)\n",
    "    "
   ]
  },
  {
   "cell_type": "code",
   "execution_count": 296,
   "metadata": {},
   "outputs": [],
   "source": [
    "test_path = 'Data/chest_xray/test'\n",
    "test_ds = tf.data.Dataset.list_files(str(train_path+'/*/*'))\n",
    "test_labeled = test_ds.map(returnImg, num_parallel_calls=AUTOTUNE)\n",
    "test_labeled = test_labeled.batch(1000)"
   ]
  },
  {
   "cell_type": "code",
   "execution_count": 297,
   "metadata": {},
   "outputs": [
    {
     "name": "stdout",
     "output_type": "stream",
     "text": [
      "6/6 [==============================] - 19s 3s/step - loss: 0.1778 - accuracy: 0.9273\n"
     ]
    }
   ],
   "source": [
    "score = testing(model, test_labeled)"
   ]
  },
  {
   "cell_type": "code",
   "execution_count": null,
   "metadata": {},
   "outputs": [],
   "source": []
  },
  {
   "cell_type": "code",
   "execution_count": 285,
   "metadata": {},
   "outputs": [],
   "source": []
  },
  {
   "cell_type": "code",
   "execution_count": null,
   "metadata": {},
   "outputs": [],
   "source": []
  },
  {
   "cell_type": "code",
   "execution_count": null,
   "metadata": {},
   "outputs": [],
   "source": []
  },
  {
   "cell_type": "code",
   "execution_count": null,
   "metadata": {},
   "outputs": [],
   "source": []
  }
 ],
 "metadata": {
  "kernelspec": {
   "display_name": "Python 3",
   "language": "python",
   "name": "python3"
  },
  "language_info": {
   "codemirror_mode": {
    "name": "ipython",
    "version": 3
   },
   "file_extension": ".py",
   "mimetype": "text/x-python",
   "name": "python",
   "nbconvert_exporter": "python",
   "pygments_lexer": "ipython3",
   "version": "3.7.6"
  }
 },
 "nbformat": 4,
 "nbformat_minor": 4
}
