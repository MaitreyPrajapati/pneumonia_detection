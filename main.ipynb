{
 "cells": [
  {
   "cell_type": "code",
   "execution_count": 3,
   "metadata": {},
   "outputs": [],
   "source": [
    "import numpy as np\n",
    "import tensorflow as tf\n",
    "import matplotlib.pyplot as plt\n",
    "import imageio\n",
    "import os \n",
    "from tensorflow.keras.models import Sequential\n",
    "from tensorflow.keras.layers import Conv2D, AveragePooling2D, Dense, Flatten"
   ]
  },
  {
   "cell_type": "code",
   "execution_count": 4,
   "metadata": {},
   "outputs": [
    {
     "name": "stdout",
     "output_type": "stream",
     "text": [
      "# Train images : 5216 \n",
      "# Test images : 624\n"
     ]
    }
   ],
   "source": [
    "import glob\n",
    "c1 = glob.glob('Data/chest_xray/train/*/*')\n",
    "c2 = glob.glob('Data/chest_xray/test/*/*')\n",
    "\n",
    "print('# Train images : {} \\n# Test images : {}'.format(len(c1), len(c2)))"
   ]
  },
  {
   "cell_type": "markdown",
   "metadata": {},
   "source": [
    "## Loading, resizing, classifying images"
   ]
  },
  {
   "cell_type": "code",
   "execution_count": 5,
   "metadata": {},
   "outputs": [],
   "source": [
    "AUTOTUNE = tf.data.experimental.AUTOTUNE\n",
    "          \n",
    "def returnLabel(path):\n",
    "    imgClass = tf.strings.split(path,'/')[-2]\n",
    "    return 0 if imgClass == 'NORMAL' else 1\n",
    "\n",
    "def returnImg(path):\n",
    "    img = tf.io.read_file(path)\n",
    "    img = tf.image.decode_jpeg(img, channels=3)\n",
    "    img = tf.image.convert_image_dtype(img, tf.float32)\n",
    "    imgClass = returnLabel(path)\n",
    "    return tf.image.resize(img, (256,256)), imgClass"
   ]
  },
  {
   "cell_type": "code",
   "execution_count": 6,
   "metadata": {},
   "outputs": [
    {
     "data": {
      "text/plain": [
       "<ParallelMapDataset shapes: ((256, 256, 3), ()), types: (tf.float32, tf.int32)>"
      ]
     },
     "execution_count": 6,
     "metadata": {},
     "output_type": "execute_result"
    }
   ],
   "source": [
    "train_path = 'Data/chest_xray/train'\n",
    "list_ds = tf.data.Dataset.list_files(str(train_path+'/*/*'))\n",
    "labeled_ds = list_ds.map(returnImg, num_parallel_calls=AUTOTUNE)\n",
    "labeled_ds"
   ]
  },
  {
   "cell_type": "markdown",
   "metadata": {},
   "source": [
    "## Model\n"
   ]
  },
  {
   "cell_type": "code",
   "execution_count": 40,
   "metadata": {},
   "outputs": [],
   "source": [
    "## To store accuracy and loss of the model to plot the graph later on\n",
    "class AccuracyHistory(tf.keras.callbacks.Callback):\n",
    "    def on_train_begin(self, logs={}):\n",
    "        self.acc = []\n",
    "        self.loss_ = []\n",
    "\n",
    "    def on_epoch_end(self, batch, logs={}):\n",
    "        self.acc.append(logs.get('accuracy'))\n",
    "        self.loss_.append(logs.get('loss'))\n",
    "\n",
    "history = AccuracyHistory()\n",
    "\n",
    "## To save weights of the model during training\n",
    "checkpoint_path = 'Checkpoints/cp-{epoch:04d}.ckpt'\n",
    "cp_callback = tf.keras.callbacks.ModelCheckpoint(filepath=checkpoint_path, verbose=1, save_weights_only=True, save_freq=5)"
   ]
  },
  {
   "cell_type": "code",
   "execution_count": 16,
   "metadata": {},
   "outputs": [],
   "source": [
    "def nn_model():\n",
    "    model = Sequential()\n",
    "    \n",
    "    model.add(Conv2D(8,5, strides=(5,5), padding='SAME', activation='relu', use_bias=True))\n",
    "    model.add(AveragePooling2D(pool_size=(2,2), data_format='channels_last'))\n",
    "    \n",
    "    model.add(Conv2D(10, 5, activation='relu', use_bias=True))\n",
    "    model.add(AveragePooling2D(pool_size=(2,2), strides=(1,1), data_format='channels_last'))\n",
    "    \n",
    "    model.add(Flatten())\n",
    "    \n",
    "    model.add(Dense(120, activation='relu', use_bias=True))\n",
    "    model.add(Dense(84, activation='relu', use_bias=True))\n",
    "    model.add(Dense(1, activation='sigmoid', use_bias=True))\n",
    "    \n",
    "    model.compile(loss=tf.keras.losses.BinaryCrossentropy(), optimizer=tf.keras.optimizers.Adam(\n",
    "    learning_rate=0.001, beta_1=0.9, beta_2=0.999, epsilon=1e-07), metrics=['accuracy'])\n",
    "    \n",
    "    return model\n",
    "    "
   ]
  },
  {
   "cell_type": "code",
   "execution_count": 31,
   "metadata": {},
   "outputs": [],
   "source": [
    "epochs = 100\n",
    "batch_size = 128\n",
    "labeled_data = labeled_ds.batch(5300)"
   ]
  },
  {
   "cell_type": "code",
   "execution_count": 29,
   "metadata": {
    "collapsed": true
   },
   "outputs": [
    {
     "name": "stdout",
     "output_type": "stream",
     "text": [
      "Epoch 1/100\n",
      "1/1 [==============================] - 0s 1ms/step - loss: 0.6602 - accuracy: 0.7487\n",
      "Epoch 2/100\n",
      "1/1 [==============================] - 0s 1ms/step - loss: 0.6027 - accuracy: 0.7429\n",
      "Epoch 3/100\n",
      "1/1 [==============================] - 0s 1ms/step - loss: 0.5747 - accuracy: 0.7429\n",
      "Epoch 4/100\n",
      "1/1 [==============================] - 0s 1ms/step - loss: 0.5530 - accuracy: 0.7429\n",
      "Epoch 5/100\n",
      "\n",
      "Epoch 00005: saving model to Checkpoints/cp-0005.ckpt\n",
      "1/1 [==============================] - 0s 1ms/step - loss: 0.5415 - accuracy: 0.7429\n",
      "Epoch 6/100\n",
      "1/1 [==============================] - 0s 1ms/step - loss: 0.5251 - accuracy: 0.7429\n",
      "Epoch 7/100\n",
      "1/1 [==============================] - 0s 1ms/step - loss: 0.5034 - accuracy: 0.7429\n",
      "Epoch 8/100\n",
      "1/1 [==============================] - 0s 1ms/step - loss: 0.4742 - accuracy: 0.7429\n",
      "Epoch 9/100\n",
      "1/1 [==============================] - 0s 1ms/step - loss: 0.4442 - accuracy: 0.7450\n",
      "Epoch 10/100\n",
      "\n",
      "Epoch 00010: saving model to Checkpoints/cp-0010.ckpt\n",
      "1/1 [==============================] - 0s 819us/step - loss: 0.4171 - accuracy: 0.8591\n",
      "Epoch 11/100\n",
      "1/1 [==============================] - 0s 1ms/step - loss: 0.4048 - accuracy: 0.7665\n",
      "Epoch 12/100\n",
      "1/1 [==============================] - 0s 1ms/step - loss: 0.3735 - accuracy: 0.8905\n",
      "Epoch 13/100\n",
      "1/1 [==============================] - 0s 6ms/step - loss: 0.3369 - accuracy: 0.8480\n",
      "Epoch 14/100\n",
      "1/1 [==============================] - 0s 2ms/step - loss: 0.3109 - accuracy: 0.8758\n",
      "Epoch 15/100\n",
      "\n",
      "Epoch 00015: saving model to Checkpoints/cp-0015.ckpt\n",
      "1/1 [==============================] - 0s 2ms/step - loss: 0.3063 - accuracy: 0.8946\n",
      "Epoch 16/100\n",
      "1/1 [==============================] - 0s 2ms/step - loss: 0.3147 - accuracy: 0.8512\n",
      "Epoch 17/100\n",
      "1/1 [==============================] - 0s 1ms/step - loss: 0.2786 - accuracy: 0.8963\n",
      "Epoch 18/100\n",
      "1/1 [==============================] - 0s 2ms/step - loss: 0.2533 - accuracy: 0.8999\n",
      "Epoch 19/100\n",
      "1/1 [==============================] - 0s 2ms/step - loss: 0.2603 - accuracy: 0.8884\n",
      "Epoch 20/100\n",
      "\n",
      "Epoch 00020: saving model to Checkpoints/cp-0020.ckpt\n",
      "1/1 [==============================] - 0s 1ms/step - loss: 0.2517 - accuracy: 0.8959\n",
      "Epoch 21/100\n",
      "1/1 [==============================] - 0s 2ms/step - loss: 0.2321 - accuracy: 0.9015\n",
      "Epoch 22/100\n",
      "1/1 [==============================] - 0s 1ms/step - loss: 0.2224 - accuracy: 0.9078\n",
      "Epoch 23/100\n",
      "1/1 [==============================] - 0s 968us/step - loss: 0.2234 - accuracy: 0.9059\n",
      "Epoch 24/100\n",
      "1/1 [==============================] - 0s 1ms/step - loss: 0.2219 - accuracy: 0.9070\n",
      "Epoch 25/100\n",
      "\n",
      "Epoch 00025: saving model to Checkpoints/cp-0025.ckpt\n",
      "1/1 [==============================] - 0s 982us/step - loss: 0.2090 - accuracy: 0.9133\n",
      "Epoch 26/100\n",
      "1/1 [==============================] - 0s 1ms/step - loss: 0.1987 - accuracy: 0.9183\n",
      "Epoch 27/100\n",
      "1/1 [==============================] - 0s 1ms/step - loss: 0.1973 - accuracy: 0.9193\n",
      "Epoch 28/100\n",
      "1/1 [==============================] - 0s 1ms/step - loss: 0.1966 - accuracy: 0.9176\n",
      "Epoch 29/100\n",
      "1/1 [==============================] - 0s 1ms/step - loss: 0.1903 - accuracy: 0.9241\n",
      "Epoch 30/100\n",
      "\n",
      "Epoch 00030: saving model to Checkpoints/cp-0030.ckpt\n",
      "1/1 [==============================] - 0s 1ms/step - loss: 0.1800 - accuracy: 0.9258\n",
      "Epoch 31/100\n",
      "1/1 [==============================] - 0s 1ms/step - loss: 0.1755 - accuracy: 0.9266\n",
      "Epoch 32/100\n",
      "1/1 [==============================] - 0s 1ms/step - loss: 0.1758 - accuracy: 0.9312\n",
      "Epoch 33/100\n",
      "1/1 [==============================] - 0s 1ms/step - loss: 0.1729 - accuracy: 0.9256\n",
      "Epoch 34/100\n",
      "1/1 [==============================] - 0s 774us/step - loss: 0.1663 - accuracy: 0.9337\n",
      "Epoch 35/100\n",
      "\n",
      "Epoch 00035: saving model to Checkpoints/cp-0035.ckpt\n",
      "1/1 [==============================] - 0s 966us/step - loss: 0.1598 - accuracy: 0.9360\n",
      "Epoch 36/100\n",
      "1/1 [==============================] - 0s 2ms/step - loss: 0.1570 - accuracy: 0.9363\n",
      "Epoch 37/100\n",
      "1/1 [==============================] - 0s 1ms/step - loss: 0.1562 - accuracy: 0.9383\n",
      "Epoch 38/100\n",
      "1/1 [==============================] - 0s 1ms/step - loss: 0.1551 - accuracy: 0.9354\n",
      "Epoch 39/100\n",
      "1/1 [==============================] - 0s 1ms/step - loss: 0.1531 - accuracy: 0.9413\n",
      "Epoch 40/100\n",
      "\n",
      "Epoch 00040: saving model to Checkpoints/cp-0040.ckpt\n",
      "1/1 [==============================] - 0s 1ms/step - loss: 0.1491 - accuracy: 0.9381\n",
      "Epoch 41/100\n",
      "1/1 [==============================] - 0s 1ms/step - loss: 0.1451 - accuracy: 0.9431\n",
      "Epoch 42/100\n",
      "1/1 [==============================] - 0s 1ms/step - loss: 0.1412 - accuracy: 0.9423\n",
      "Epoch 43/100\n",
      "1/1 [==============================] - 0s 1ms/step - loss: 0.1383 - accuracy: 0.9469\n",
      "Epoch 44/100\n",
      "1/1 [==============================] - 0s 1ms/step - loss: 0.1362 - accuracy: 0.9471\n",
      "Epoch 45/100\n",
      "\n",
      "Epoch 00045: saving model to Checkpoints/cp-0045.ckpt\n",
      "1/1 [==============================] - 0s 955us/step - loss: 0.1348 - accuracy: 0.9490\n",
      "Epoch 46/100\n",
      "1/1 [==============================] - 0s 1ms/step - loss: 0.1343 - accuracy: 0.9479\n",
      "Epoch 47/100\n",
      "1/1 [==============================] - 0s 850us/step - loss: 0.1360 - accuracy: 0.9454\n",
      "Epoch 48/100\n",
      "1/1 [==============================] - 0s 1ms/step - loss: 0.1459 - accuracy: 0.9429\n",
      "Epoch 49/100\n",
      "1/1 [==============================] - 0s 1ms/step - loss: 0.1722 - accuracy: 0.9296\n",
      "Epoch 50/100\n",
      "\n",
      "Epoch 00050: saving model to Checkpoints/cp-0050.ckpt\n",
      "1/1 [==============================] - 0s 2ms/step - loss: 0.2318 - accuracy: 0.9043\n",
      "Epoch 51/100\n",
      "1/1 [==============================] - 0s 1ms/step - loss: 0.1711 - accuracy: 0.9304\n",
      "Epoch 52/100\n",
      "1/1 [==============================] - 0s 1ms/step - loss: 0.1282 - accuracy: 0.9511\n",
      "Epoch 53/100\n",
      "1/1 [==============================] - 0s 1ms/step - loss: 0.1674 - accuracy: 0.9321\n",
      "Epoch 54/100\n",
      "1/1 [==============================] - 0s 1ms/step - loss: 0.1262 - accuracy: 0.9530\n",
      "Epoch 55/100\n",
      "\n",
      "Epoch 00055: saving model to Checkpoints/cp-0055.ckpt\n",
      "1/1 [==============================] - 0s 1ms/step - loss: 0.1527 - accuracy: 0.9402\n",
      "Epoch 56/100\n",
      "1/1 [==============================] - 0s 1ms/step - loss: 0.1307 - accuracy: 0.9505\n",
      "Epoch 57/100\n",
      "1/1 [==============================] - 0s 1ms/step - loss: 0.1424 - accuracy: 0.9461\n",
      "Epoch 58/100\n",
      "1/1 [==============================] - 0s 987us/step - loss: 0.1274 - accuracy: 0.9513\n",
      "Epoch 59/100\n",
      "1/1 [==============================] - 0s 944us/step - loss: 0.1387 - accuracy: 0.9465\n",
      "Epoch 60/100\n",
      "\n",
      "Epoch 00060: saving model to Checkpoints/cp-0060.ckpt\n",
      "1/1 [==============================] - 0s 2ms/step - loss: 0.1243 - accuracy: 0.9528\n",
      "Epoch 61/100\n",
      "1/1 [==============================] - 0s 1ms/step - loss: 0.1360 - accuracy: 0.9484\n",
      "Epoch 62/100\n",
      "1/1 [==============================] - 0s 1ms/step - loss: 0.1214 - accuracy: 0.9557\n",
      "Epoch 63/100\n",
      "1/1 [==============================] - 0s 1ms/step - loss: 0.1327 - accuracy: 0.9475\n",
      "Epoch 64/100\n",
      "1/1 [==============================] - 0s 1ms/step - loss: 0.1201 - accuracy: 0.9559\n",
      "Epoch 65/100\n",
      "\n",
      "Epoch 00065: saving model to Checkpoints/cp-0065.ckpt\n",
      "1/1 [==============================] - 0s 1ms/step - loss: 0.1198 - accuracy: 0.9551\n",
      "Epoch 66/100\n",
      "1/1 [==============================] - 0s 997us/step - loss: 0.1195 - accuracy: 0.9532\n",
      "Epoch 67/100\n",
      "1/1 [==============================] - 0s 1ms/step - loss: 0.1275 - accuracy: 0.9507\n",
      "Epoch 68/100\n",
      "1/1 [==============================] - 0s 1ms/step - loss: 0.1205 - accuracy: 0.9534\n",
      "Epoch 69/100\n",
      "1/1 [==============================] - 0s 1ms/step - loss: 0.1176 - accuracy: 0.9536\n",
      "Epoch 70/100\n",
      "\n",
      "Epoch 00070: saving model to Checkpoints/cp-0070.ckpt\n",
      "1/1 [==============================] - 0s 1ms/step - loss: 0.1220 - accuracy: 0.9546\n",
      "Epoch 71/100\n",
      "1/1 [==============================] - 0s 1ms/step - loss: 0.1152 - accuracy: 0.9549\n",
      "Epoch 72/100\n",
      "1/1 [==============================] - 0s 1ms/step - loss: 0.1182 - accuracy: 0.9538\n",
      "Epoch 73/100\n",
      "1/1 [==============================] - 0s 1ms/step - loss: 0.1169 - accuracy: 0.9565\n",
      "Epoch 74/100\n",
      "1/1 [==============================] - 0s 1ms/step - loss: 0.1135 - accuracy: 0.9565\n",
      "Epoch 75/100\n",
      "\n",
      "Epoch 00075: saving model to Checkpoints/cp-0075.ckpt\n",
      "1/1 [==============================] - 0s 1ms/step - loss: 0.1168 - accuracy: 0.9551\n",
      "Epoch 76/100\n"
     ]
    },
    {
     "name": "stdout",
     "output_type": "stream",
     "text": [
      "1/1 [==============================] - 0s 1ms/step - loss: 0.1124 - accuracy: 0.9571\n",
      "Epoch 77/100\n",
      "1/1 [==============================] - 0s 1ms/step - loss: 0.1132 - accuracy: 0.9584\n",
      "Epoch 78/100\n",
      "1/1 [==============================] - 0s 1ms/step - loss: 0.1130 - accuracy: 0.9553\n",
      "Epoch 79/100\n",
      "1/1 [==============================] - 0s 982us/step - loss: 0.1101 - accuracy: 0.9578\n",
      "Epoch 80/100\n",
      "\n",
      "Epoch 00080: saving model to Checkpoints/cp-0080.ckpt\n",
      "1/1 [==============================] - 0s 1ms/step - loss: 0.1119 - accuracy: 0.9590\n",
      "Epoch 81/100\n",
      "1/1 [==============================] - 0s 941us/step - loss: 0.1094 - accuracy: 0.9574\n",
      "Epoch 82/100\n",
      "1/1 [==============================] - 0s 1ms/step - loss: 0.1092 - accuracy: 0.9578\n",
      "Epoch 83/100\n",
      "1/1 [==============================] - 0s 936us/step - loss: 0.1095 - accuracy: 0.9590\n",
      "Epoch 84/100\n",
      "1/1 [==============================] - 0s 977us/step - loss: 0.1073 - accuracy: 0.9592\n",
      "Epoch 85/100\n",
      "\n",
      "Epoch 00085: saving model to Checkpoints/cp-0085.ckpt\n",
      "1/1 [==============================] - 0s 1ms/step - loss: 0.1082 - accuracy: 0.9584\n",
      "Epoch 86/100\n",
      "1/1 [==============================] - 0s 1ms/step - loss: 0.1071 - accuracy: 0.9603\n",
      "Epoch 87/100\n",
      "1/1 [==============================] - 0s 987us/step - loss: 0.1061 - accuracy: 0.9601\n",
      "Epoch 88/100\n",
      "1/1 [==============================] - 0s 988us/step - loss: 0.1066 - accuracy: 0.9597\n",
      "Epoch 89/100\n",
      "1/1 [==============================] - 0s 953us/step - loss: 0.1051 - accuracy: 0.9611\n",
      "Epoch 90/100\n",
      "\n",
      "Epoch 00090: saving model to Checkpoints/cp-0090.ckpt\n",
      "1/1 [==============================] - 0s 958us/step - loss: 0.1050 - accuracy: 0.9607\n",
      "Epoch 91/100\n",
      "1/1 [==============================] - 0s 1ms/step - loss: 0.1048 - accuracy: 0.9609\n",
      "Epoch 92/100\n",
      "1/1 [==============================] - 0s 1ms/step - loss: 0.1035 - accuracy: 0.9613\n",
      "Epoch 93/100\n",
      "1/1 [==============================] - 0s 1ms/step - loss: 0.1036 - accuracy: 0.9611\n",
      "Epoch 94/100\n",
      "1/1 [==============================] - 0s 1ms/step - loss: 0.1030 - accuracy: 0.9615\n",
      "Epoch 95/100\n",
      "\n",
      "Epoch 00095: saving model to Checkpoints/cp-0095.ckpt\n",
      "1/1 [==============================] - 0s 1ms/step - loss: 0.1021 - accuracy: 0.9622\n",
      "Epoch 96/100\n",
      "1/1 [==============================] - 0s 1ms/step - loss: 0.1022 - accuracy: 0.9622\n",
      "Epoch 97/100\n",
      "1/1 [==============================] - 0s 1ms/step - loss: 0.1015 - accuracy: 0.9624\n",
      "Epoch 98/100\n",
      "1/1 [==============================] - 0s 983us/step - loss: 0.1009 - accuracy: 0.9630\n",
      "Epoch 99/100\n",
      "1/1 [==============================] - 0s 1ms/step - loss: 0.1008 - accuracy: 0.9630\n",
      "Epoch 100/100\n",
      "\n",
      "Epoch 00100: saving model to Checkpoints/cp-0100.ckpt\n",
      "1/1 [==============================] - 0s 1ms/step - loss: 0.1001 - accuracy: 0.9632\n"
     ]
    }
   ],
   "source": [
    "def train(model,dataset, batch_size, epochs):\n",
    "    model.fit(dataset, batch_size=batch_size, epochs=epochs, verbose=1, callbacks=[history, cp_callback])\n",
    "    return model\n",
    "model = train(labeled_data, batch_size, epochs)"
   ]
  },
  {
   "cell_type": "markdown",
   "metadata": {},
   "source": [
    "## Testing"
   ]
  },
  {
   "cell_type": "code",
   "execution_count": 35,
   "metadata": {},
   "outputs": [],
   "source": [
    "def testing(model, weights, test_dataset):    \n",
    "    model.load_weights(weights)\n",
    "    return model.evaluate(test_dataset, verbose = 1, batch_size=128, return_dict=True)\n",
    "    "
   ]
  },
  {
   "cell_type": "code",
   "execution_count": 25,
   "metadata": {},
   "outputs": [],
   "source": [
    "## Loading test images\n",
    "test_path = 'Data/chest_xray/test'\n",
    "test_ds = tf.data.Dataset.list_files(str(train_path+'/*/*'))\n",
    "test_labeled = test_ds.map(returnImg, num_parallel_calls=AUTOTUNE)\n",
    "test_labeled = test_labeled.batch(1000)"
   ]
  },
  {
   "cell_type": "code",
   "execution_count": 37,
   "metadata": {},
   "outputs": [],
   "source": [
    "## Loading latest set of trained weights\n",
    "latest_weights = tf.train.latest_checkpoint('Checkpoints')\n",
    "latest_weights\n",
    "test_model = nn_model()"
   ]
  },
  {
   "cell_type": "code",
   "execution_count": 38,
   "metadata": {},
   "outputs": [
    {
     "name": "stdout",
     "output_type": "stream",
     "text": [
      "6/6 [==============================] - 18s 3s/step - loss: 0.0995 - accuracy: 0.9634\n"
     ]
    }
   ],
   "source": [
    "test_output = testing(test_model, latest_weights, test_labeled)"
   ]
  },
  {
   "cell_type": "code",
   "execution_count": 42,
   "metadata": {},
   "outputs": [],
   "source": [
    "## Uncomment this section to plot the graph, model has to be trained from scratch to plot the graph\n",
    "\n",
    "# plt.plot(range(100), history.loss_, label='Loss')\n",
    "# plt.plot(range(100), history.acc, label='Accuracy')\n",
    "# plt.legend()\n",
    "# plt.show()"
   ]
  },
  {
   "cell_type": "code",
   "execution_count": null,
   "metadata": {},
   "outputs": [],
   "source": []
  }
 ],
 "metadata": {
  "kernelspec": {
   "display_name": "Python 3",
   "language": "python",
   "name": "python3"
  },
  "language_info": {
   "codemirror_mode": {
    "name": "ipython",
    "version": 3
   },
   "file_extension": ".py",
   "mimetype": "text/x-python",
   "name": "python",
   "nbconvert_exporter": "python",
   "pygments_lexer": "ipython3",
   "version": "3.7.6"
  }
 },
 "nbformat": 4,
 "nbformat_minor": 4
}
