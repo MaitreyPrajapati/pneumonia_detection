{
 "cells": [
  {
   "cell_type": "code",
   "execution_count": 188,
   "metadata": {},
   "outputs": [],
   "source": [
    "import numpy as np\n",
    "import tensorflow as tf\n",
    "import matplotlib.pyplot as plt\n",
    "import imageio\n",
    "import os \n",
    "from tensorflow.keras.models import Sequential\n",
    "from tensorflow.keras.layers import Conv2D, AveragePooling2D, Dense, Flatten"
   ]
  },
  {
   "cell_type": "code",
   "execution_count": 319,
   "metadata": {},
   "outputs": [
    {
     "name": "stdout",
     "output_type": "stream",
     "text": [
      "# Train images : 5216 \n",
      "# Test images : 624\n"
     ]
    }
   ],
   "source": [
    "import glob\n",
    "c1 = glob.glob('Data/chest_xray/train/*/*')\n",
    "c2 = glob.glob('Data/chest_xray/test/*/*')\n",
    "\n",
    "print('# Train images : {} \\n# Test images : {}'.format(len(c1), len(c2)))"
   ]
  },
  {
   "cell_type": "markdown",
   "metadata": {},
   "source": [
    "## Loading, resizing, classifying images"
   ]
  },
  {
   "cell_type": "code",
   "execution_count": 298,
   "metadata": {},
   "outputs": [],
   "source": [
    "AUTOTUNE = tf.data.experimental.AUTOTUNE\n",
    "          \n",
    "def returnLabel(path):\n",
    "    imgClass = tf.strings.split(path,'/')[-2]\n",
    "    return 0 if imgClass == 'NORMAL' else 1\n",
    "\n",
    "def returnImg(path):\n",
    "    img = tf.io.read_file(path)\n",
    "    img = tf.image.decode_jpeg(img, channels=3)\n",
    "    img = tf.image.convert_image_dtype(img, tf.float32)\n",
    "    imgClass = returnLabel(path)\n",
    "    return tf.image.resize(img, (256,256)), imgClass"
   ]
  },
  {
   "cell_type": "code",
   "execution_count": 299,
   "metadata": {},
   "outputs": [
    {
     "data": {
      "text/plain": [
       "<ParallelMapDataset shapes: ((256, 256, 3), ()), types: (tf.float32, tf.int32)>"
      ]
     },
     "execution_count": 299,
     "metadata": {},
     "output_type": "execute_result"
    }
   ],
   "source": [
    "train_path = 'Data/chest_xray/train'\n",
    "list_ds = tf.data.Dataset.list_files(str(train_path+'/*/*'))\n",
    "labeled_ds = list_ds.map(returnImg, num_parallel_calls=AUTOTUNE)\n",
    "labeled_ds"
   ]
  },
  {
   "cell_type": "markdown",
   "metadata": {},
   "source": [
    "## Model\n"
   ]
  },
  {
   "cell_type": "code",
   "execution_count": 320,
   "metadata": {},
   "outputs": [],
   "source": [
    "class AccuracyHistory(tf.keras.callbacks.Callback):\n",
    "    def on_train_begin(self, logs={}):\n",
    "        self.acc = []\n",
    "\n",
    "    def on_epoch_end(self, batch, logs={}):\n",
    "        self.acc.append(logs.get('accuracy'))\n",
    "\n",
    "history = AccuracyHistory()"
   ]
  },
  {
   "cell_type": "code",
   "execution_count": 321,
   "metadata": {},
   "outputs": [],
   "source": [
    "def nn_model():\n",
    "    model = Sequential()\n",
    "    \n",
    "    model.add(Conv2D(8,5, strides=(5,5), padding='SAME', activation='relu', use_bias=True))\n",
    "    model.add(AveragePooling2D(pool_size=(2,2), data_format='channels_last'))\n",
    "    \n",
    "    model.add(Conv2D(10, 5, activation='relu', use_bias=True))\n",
    "    model.add(AveragePooling2D(pool_size=(2,2), strides=(1,1), data_format='channels_last'))\n",
    "    \n",
    "    model.add(Flatten())\n",
    "    \n",
    "    model.add(Dense(120, activation='relu', use_bias=True))\n",
    "    model.add(Dense(84, activation='relu', use_bias=True))\n",
    "    model.add(Dense(1, activation='sigmoid', use_bias=True))\n",
    "    \n",
    "    model.compile(loss=tf.keras.losses.BinaryCrossentropy(), optimizer=tf.keras.optimizers.Adam(\n",
    "    learning_rate=0.001, beta_1=0.9, beta_2=0.999, epsilon=1e-07), metrics=['accuracy'])\n",
    "    \n",
    "    return model\n",
    "    "
   ]
  },
  {
   "cell_type": "code",
   "execution_count": 326,
   "metadata": {},
   "outputs": [
    {
     "name": "stdout",
     "output_type": "stream",
     "text": [
      "Epoch 1/75\n",
      "1/1 [==============================] - 0s 1ms/step - loss: 0.6679 - accuracy: 0.7427\n",
      "Epoch 2/75\n",
      "1/1 [==============================] - 0s 1ms/step - loss: 0.5746 - accuracy: 0.7429\n",
      "Epoch 3/75\n",
      "1/1 [==============================] - 0s 1ms/step - loss: 0.5632 - accuracy: 0.7429\n",
      "Epoch 4/75\n",
      "1/1 [==============================] - 0s 2ms/step - loss: 0.5543 - accuracy: 0.7429\n",
      "Epoch 5/75\n",
      "1/1 [==============================] - 0s 1ms/step - loss: 0.5431 - accuracy: 0.7429\n",
      "Epoch 6/75\n",
      "1/1 [==============================] - 0s 978us/step - loss: 0.5318 - accuracy: 0.7429\n",
      "Epoch 7/75\n",
      "1/1 [==============================] - 0s 1ms/step - loss: 0.5207 - accuracy: 0.7429\n",
      "Epoch 8/75\n",
      "1/1 [==============================] - 0s 1ms/step - loss: 0.5049 - accuracy: 0.7429\n",
      "Epoch 9/75\n",
      "1/1 [==============================] - 0s 1ms/step - loss: 0.4864 - accuracy: 0.7429\n",
      "Epoch 10/75\n",
      "1/1 [==============================] - 0s 1ms/step - loss: 0.4634 - accuracy: 0.7431\n",
      "Epoch 11/75\n",
      "1/1 [==============================] - 0s 1ms/step - loss: 0.4365 - accuracy: 0.7581\n",
      "Epoch 12/75\n",
      "1/1 [==============================] - 0s 1ms/step - loss: 0.4078 - accuracy: 0.8087\n",
      "Epoch 13/75\n",
      "1/1 [==============================] - 0s 1ms/step - loss: 0.3756 - accuracy: 0.8271\n",
      "Epoch 14/75\n",
      "1/1 [==============================] - 0s 1ms/step - loss: 0.3426 - accuracy: 0.8662\n",
      "Epoch 15/75\n",
      "1/1 [==============================] - 0s 1ms/step - loss: 0.3121 - accuracy: 0.8886\n",
      "Epoch 16/75\n",
      "1/1 [==============================] - 0s 1ms/step - loss: 0.2856 - accuracy: 0.8886\n",
      "Epoch 17/75\n",
      "1/1 [==============================] - 0s 2ms/step - loss: 0.2914 - accuracy: 0.8873\n",
      "Epoch 18/75\n",
      "1/1 [==============================] - 0s 1ms/step - loss: 0.3246 - accuracy: 0.8508\n",
      "Epoch 19/75\n",
      "1/1 [==============================] - 0s 954us/step - loss: 0.2425 - accuracy: 0.8995\n",
      "Epoch 20/75\n",
      "1/1 [==============================] - 0s 969us/step - loss: 0.3198 - accuracy: 0.8606\n",
      "Epoch 21/75\n",
      "1/1 [==============================] - 0s 1ms/step - loss: 0.2274 - accuracy: 0.9066\n",
      "Epoch 22/75\n",
      "1/1 [==============================] - 0s 887us/step - loss: 0.2853 - accuracy: 0.8779\n",
      "Epoch 23/75\n",
      "1/1 [==============================] - 0s 1ms/step - loss: 0.2350 - accuracy: 0.9001\n",
      "Epoch 24/75\n",
      "1/1 [==============================] - 0s 1ms/step - loss: 0.2388 - accuracy: 0.8972\n",
      "Epoch 25/75\n",
      "1/1 [==============================] - 0s 946us/step - loss: 0.2445 - accuracy: 0.8944\n",
      "Epoch 26/75\n",
      "1/1 [==============================] - 0s 1ms/step - loss: 0.2064 - accuracy: 0.9145\n",
      "Epoch 27/75\n",
      "1/1 [==============================] - 0s 949us/step - loss: 0.2350 - accuracy: 0.8999\n",
      "Epoch 28/75\n",
      "1/1 [==============================] - 0s 1ms/step - loss: 0.2055 - accuracy: 0.9162\n",
      "Epoch 29/75\n",
      "1/1 [==============================] - 0s 2ms/step - loss: 0.1992 - accuracy: 0.9176\n",
      "Epoch 30/75\n",
      "1/1 [==============================] - 0s 2ms/step - loss: 0.2083 - accuracy: 0.9137\n",
      "Epoch 31/75\n",
      "1/1 [==============================] - 0s 1ms/step - loss: 0.1794 - accuracy: 0.9262\n",
      "Epoch 32/75\n",
      "1/1 [==============================] - 0s 1ms/step - loss: 0.1950 - accuracy: 0.9191\n",
      "Epoch 33/75\n",
      "1/1 [==============================] - 0s 1ms/step - loss: 0.1787 - accuracy: 0.9285\n",
      "Epoch 34/75\n",
      "1/1 [==============================] - 0s 3ms/step - loss: 0.1727 - accuracy: 0.9323\n",
      "Epoch 35/75\n",
      "1/1 [==============================] - 0s 1ms/step - loss: 0.1781 - accuracy: 0.9266\n",
      "Epoch 36/75\n",
      "1/1 [==============================] - 0s 1ms/step - loss: 0.1593 - accuracy: 0.9356\n",
      "Epoch 37/75\n",
      "1/1 [==============================] - 0s 917us/step - loss: 0.1709 - accuracy: 0.9310\n",
      "Epoch 38/75\n",
      "1/1 [==============================] - 0s 1ms/step - loss: 0.1549 - accuracy: 0.9365\n",
      "Epoch 39/75\n",
      "1/1 [==============================] - 0s 932us/step - loss: 0.1605 - accuracy: 0.9385\n",
      "Epoch 40/75\n",
      "1/1 [==============================] - 0s 994us/step - loss: 0.1511 - accuracy: 0.9410\n",
      "Epoch 41/75\n",
      "1/1 [==============================] - 0s 1ms/step - loss: 0.1496 - accuracy: 0.9404\n",
      "Epoch 42/75\n",
      "1/1 [==============================] - 0s 936us/step - loss: 0.1494 - accuracy: 0.9394\n",
      "Epoch 43/75\n",
      "1/1 [==============================] - 0s 2ms/step - loss: 0.1416 - accuracy: 0.9452\n",
      "Epoch 44/75\n",
      "1/1 [==============================] - 0s 1ms/step - loss: 0.1461 - accuracy: 0.9450\n",
      "Epoch 45/75\n",
      "1/1 [==============================] - 0s 1ms/step - loss: 0.1366 - accuracy: 0.9456\n",
      "Epoch 46/75\n",
      "1/1 [==============================] - 0s 1ms/step - loss: 0.1414 - accuracy: 0.9427\n",
      "Epoch 47/75\n",
      "1/1 [==============================] - 0s 1ms/step - loss: 0.1328 - accuracy: 0.9475\n",
      "Epoch 48/75\n",
      "1/1 [==============================] - 0s 1ms/step - loss: 0.1364 - accuracy: 0.9484\n",
      "Epoch 49/75\n",
      "1/1 [==============================] - 0s 873us/step - loss: 0.1291 - accuracy: 0.9519\n",
      "Epoch 50/75\n",
      "1/1 [==============================] - 0s 1ms/step - loss: 0.1315 - accuracy: 0.9482\n",
      "Epoch 51/75\n",
      "1/1 [==============================] - 0s 1ms/step - loss: 0.1256 - accuracy: 0.9517\n",
      "Epoch 52/75\n",
      "1/1 [==============================] - 0s 1ms/step - loss: 0.1286 - accuracy: 0.9500\n",
      "Epoch 53/75\n",
      "1/1 [==============================] - 0s 1ms/step - loss: 0.1220 - accuracy: 0.9534\n",
      "Epoch 54/75\n",
      "1/1 [==============================] - 0s 1ms/step - loss: 0.1243 - accuracy: 0.9526\n",
      "Epoch 55/75\n",
      "1/1 [==============================] - 0s 3ms/step - loss: 0.1198 - accuracy: 0.9538\n",
      "Epoch 56/75\n",
      "1/1 [==============================] - 0s 950us/step - loss: 0.1202 - accuracy: 0.9542\n",
      "Epoch 57/75\n",
      "1/1 [==============================] - 0s 912us/step - loss: 0.1176 - accuracy: 0.9559\n",
      "Epoch 58/75\n",
      "1/1 [==============================] - 0s 1ms/step - loss: 0.1156 - accuracy: 0.9574\n",
      "Epoch 59/75\n",
      "1/1 [==============================] - 0s 1ms/step - loss: 0.1190 - accuracy: 0.9536\n",
      "Epoch 60/75\n",
      "1/1 [==============================] - 0s 1ms/step - loss: 0.1173 - accuracy: 0.9567\n",
      "Epoch 61/75\n",
      "1/1 [==============================] - 0s 3ms/step - loss: 0.1119 - accuracy: 0.9580\n",
      "Epoch 62/75\n",
      "1/1 [==============================] - 0s 1ms/step - loss: 0.1173 - accuracy: 0.9549\n",
      "Epoch 63/75\n",
      "1/1 [==============================] - 0s 1ms/step - loss: 0.1144 - accuracy: 0.9571\n",
      "Epoch 64/75\n",
      "1/1 [==============================] - 0s 952us/step - loss: 0.1105 - accuracy: 0.9586\n",
      "Epoch 65/75\n",
      "1/1 [==============================] - 0s 1ms/step - loss: 0.1146 - accuracy: 0.9571\n",
      "Epoch 66/75\n",
      "1/1 [==============================] - 0s 1ms/step - loss: 0.1080 - accuracy: 0.9607\n",
      "Epoch 67/75\n",
      "1/1 [==============================] - 0s 2ms/step - loss: 0.1112 - accuracy: 0.9572\n",
      "Epoch 68/75\n",
      "1/1 [==============================] - 0s 967us/step - loss: 0.1071 - accuracy: 0.9603\n",
      "Epoch 69/75\n",
      "1/1 [==============================] - 0s 1ms/step - loss: 0.1075 - accuracy: 0.9599\n",
      "Epoch 70/75\n",
      "1/1 [==============================] - 0s 958us/step - loss: 0.1071 - accuracy: 0.9597\n",
      "Epoch 71/75\n",
      "1/1 [==============================] - 0s 960us/step - loss: 0.1036 - accuracy: 0.9626\n",
      "Epoch 72/75\n",
      "1/1 [==============================] - 0s 1ms/step - loss: 0.1067 - accuracy: 0.9588\n",
      "Epoch 73/75\n",
      "1/1 [==============================] - 0s 1ms/step - loss: 0.1045 - accuracy: 0.9609\n",
      "Epoch 74/75\n",
      "1/1 [==============================] - 0s 1ms/step - loss: 0.1011 - accuracy: 0.9630\n",
      "Epoch 75/75\n",
      "1/1 [==============================] - 0s 1ms/step - loss: 0.1050 - accuracy: 0.9590\n"
     ]
    },
    {
     "data": {
      "text/plain": [
       "<tensorflow.python.keras.callbacks.History at 0x63ab3cc50>"
      ]
     },
     "execution_count": 326,
     "metadata": {},
     "output_type": "execute_result"
    }
   ],
   "source": [
    "epoch = 75\n",
    "batch_size = 128\n",
    "seed = 1 \n",
    "labeled_data = labeled_ds.batch(5300)\n",
    "model = nn_model()\n",
    "\n",
    "model.fit(labeled_data, batch_size=128, epochs=epoch, verbose=1, callbacks=[history])"
   ]
  },
  {
   "cell_type": "code",
   "execution_count": 300,
   "metadata": {},
   "outputs": [
    {
     "data": {
      "text/plain": [
       "<ParallelMapDataset shapes: ((256, 256, 3), ()), types: (tf.float32, tf.int32)>"
      ]
     },
     "execution_count": 300,
     "metadata": {},
     "output_type": "execute_result"
    }
   ],
   "source": [
    "labeled_ds"
   ]
  },
  {
   "cell_type": "markdown",
   "metadata": {},
   "source": [
    "## Testing"
   ]
  },
  {
   "cell_type": "code",
   "execution_count": 332,
   "metadata": {},
   "outputs": [],
   "source": [
    "def testing(model, test_dataset):    \n",
    "    return model.evaluate(test_dataset, verbose = 1, batch_size=128, return_dict=True)\n",
    "    "
   ]
  },
  {
   "cell_type": "code",
   "execution_count": 333,
   "metadata": {},
   "outputs": [],
   "source": [
    "test_path = 'Data/chest_xray/test'\n",
    "test_ds = tf.data.Dataset.list_files(str(train_path+'/*/*'))\n",
    "test_labeled = test_ds.map(returnImg, num_parallel_calls=AUTOTUNE)\n",
    "test_labeled = test_labeled.batch(1000)"
   ]
  },
  {
   "cell_type": "code",
   "execution_count": 334,
   "metadata": {},
   "outputs": [
    {
     "name": "stdout",
     "output_type": "stream",
     "text": [
      "6/6 [==============================] - 17s 3s/step - loss: 0.1046 - accuracy: 0.9599\n"
     ]
    }
   ],
   "source": [
    "score = testing(model, test_labeled)"
   ]
  },
  {
   "cell_type": "code",
   "execution_count": 318,
   "metadata": {},
   "outputs": [
    {
     "name": "stdout",
     "output_type": "stream",
     "text": [
      "5216\n"
     ]
    }
   ],
   "source": []
  },
  {
   "cell_type": "code",
   "execution_count": 306,
   "metadata": {},
   "outputs": [],
   "source": [
    "hist = model.history"
   ]
  },
  {
   "cell_type": "code",
   "execution_count": 307,
   "metadata": {},
   "outputs": [
    {
     "data": {
      "text/plain": [
       "<tensorflow.python.keras.callbacks.History at 0x638fe22d0>"
      ]
     },
     "execution_count": 307,
     "metadata": {},
     "output_type": "execute_result"
    }
   ],
   "source": [
    "hist.acc"
   ]
  },
  {
   "cell_type": "code",
   "execution_count": 308,
   "metadata": {},
   "outputs": [],
   "source": [
    "history_backup = history"
   ]
  },
  {
   "cell_type": "code",
   "execution_count": 327,
   "metadata": {},
   "outputs": [
    {
     "data": {
      "text/plain": [
       "[0.7427147030830383,\n",
       " 0.7429064512252808,\n",
       " 0.7429064512252808,\n",
       " 0.7429064512252808,\n",
       " 0.7429064512252808,\n",
       " 0.7429064512252808,\n",
       " 0.7429064512252808,\n",
       " 0.7429064512252808,\n",
       " 0.7429064512252808,\n",
       " 0.7430981397628784,\n",
       " 0.7580521702766418,\n",
       " 0.8086656332015991,\n",
       " 0.8270705342292786,\n",
       " 0.866180956363678,\n",
       " 0.8886119723320007,\n",
       " 0.8886119723320007,\n",
       " 0.887269914150238,\n",
       " 0.8508435487747192,\n",
       " 0.8995398879051208,\n",
       " 0.8606211543083191,\n",
       " 0.9066334366798401,\n",
       " 0.8778757452964783,\n",
       " 0.9001150131225586,\n",
       " 0.8972392678260803,\n",
       " 0.894363522529602,\n",
       " 0.9144938588142395,\n",
       " 0.8999233245849609,\n",
       " 0.9162193536758423,\n",
       " 0.9175613522529602,\n",
       " 0.9137269854545593,\n",
       " 0.9261886477470398,\n",
       " 0.9190950989723206,\n",
       " 0.9284892678260803,\n",
       " 0.9323236346244812,\n",
       " 0.9265720844268799,\n",
       " 0.9355828166007996,\n",
       " 0.9309815764427185,\n",
       " 0.9365414381027222,\n",
       " 0.9384585618972778,\n",
       " 0.9409509301185608,\n",
       " 0.9403757452964783,\n",
       " 0.9394171833992004,\n",
       " 0.9451687335968018,\n",
       " 0.9449769854545593,\n",
       " 0.9455521702766418,\n",
       " 0.9426763653755188,\n",
       " 0.9474693536758423,\n",
       " 0.9484279155731201,\n",
       " 0.9518788456916809,\n",
       " 0.9482361674308777,\n",
       " 0.9516870975494385,\n",
       " 0.9499616622924805,\n",
       " 0.9534125924110413,\n",
       " 0.9526457190513611,\n",
       " 0.9537960290908813,\n",
       " 0.9541794657707214,\n",
       " 0.9559049010276794,\n",
       " 0.9574386477470398,\n",
       " 0.9536042809486389,\n",
       " 0.9566717743873596,\n",
       " 0.9580138325691223,\n",
       " 0.9549463391304016,\n",
       " 0.9570552110671997,\n",
       " 0.9585889577865601,\n",
       " 0.9570552110671997,\n",
       " 0.9606978297233582,\n",
       " 0.9572469592094421,\n",
       " 0.9603143930435181,\n",
       " 0.959930956363678,\n",
       " 0.9597392678260803,\n",
       " 0.9626150131225586,\n",
       " 0.9587806463241577,\n",
       " 0.9608895778656006,\n",
       " 0.9629984498023987,\n",
       " 0.9589723944664001]"
      ]
     },
     "execution_count": 327,
     "metadata": {},
     "output_type": "execute_result"
    }
   ],
   "source": [
    "history.acc"
   ]
  },
  {
   "cell_type": "code",
   "execution_count": 331,
   "metadata": {},
   "outputs": [
    {
     "data": {
      "image/png": "[encoded data removed]",
      "text/plain": [
       "<Figure size 432x288 with 1 Axes>"
      ]
     },
     "metadata": {
      "needs_background": "light"
     },
     "output_type": "display_data"
    }
   ],
   "source": [
    "plt.plot(range(75), history.acc)\n",
    "plt.xlabel('Epochs')\n",
    "plt.ylabel('Accuracy')\n",
    "plt.savefig('75epoch.jpeg')"
   ]
  },
  {
   "cell_type": "code",
   "execution_count": null,
   "metadata": {},
   "outputs": [],
   "source": []
  }
 ],
 "metadata": {
  "kernelspec": {
   "display_name": "Python 3",
   "language": "python",
   "name": "python3"
  },
  "language_info": {
   "codemirror_mode": {
    "name": "ipython",
    "version": 3
   },
   "file_extension": ".py",
   "mimetype": "text/x-python",
   "name": "python",
   "nbconvert_exporter": "python",
   "pygments_lexer": "ipython3",
   "version": "3.7.6"
  }
 },
 "nbformat": 4,
 "nbformat_minor": 4
}
